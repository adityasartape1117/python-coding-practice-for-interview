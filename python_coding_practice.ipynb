{
 "cells": [
  {
   "cell_type": "markdown",
   "id": "68fc714c",
   "metadata": {},
   "source": [
    "Python program to interchange first and last elements in a list"
   ]
  },
  {
   "cell_type": "code",
   "execution_count": 1,
   "id": "4ee32bce",
   "metadata": {},
   "outputs": [
    {
     "name": "stdout",
     "output_type": "stream",
     "text": [
      "[24, 35, 9, 56, 12]\n"
     ]
    }
   ],
   "source": [
    "l = [12, 35, 9, 56, 24]\n",
    "def swapnlist(listname):\n",
    "    temp = l[0]\n",
    "    l[0] = l[len(l)-1]\n",
    "    l[len(l)-1] = temp\n",
    "    return l\n",
    "print(swapnlist(l))\n"
   ]
  },
  {
   "cell_type": "markdown",
   "id": "15f43c57",
   "metadata": {},
   "source": [
    "Python Program to Swap Two Elements in a List"
   ]
  },
  {
   "cell_type": "code",
   "execution_count": 4,
   "id": "f0d32430",
   "metadata": {},
   "outputs": [
    {
     "name": "stdout",
     "output_type": "stream",
     "text": [
      "[23, 65, 19, 90, 70, 66, 98, 74, 444]\n",
      "[23, 19, 65, 90, 70, 66, 98, 74, 444]\n"
     ]
    }
   ],
   "source": [
    "l = [23, 65, 19, 90, 70, 66, 98,74,444]\n",
    "\n",
    "print(l)\n",
    "\n",
    "p1,p2=1,2\n",
    "\n",
    "l[p1],l[p2] = l[p2],l[p1]\n",
    "\n",
    "print(l)\n",
    "\n",
    "\n",
    "\n",
    "\n",
    "\n"
   ]
  },
  {
   "cell_type": "code",
   "execution_count": 6,
   "id": "884cc121",
   "metadata": {},
   "outputs": [
    {
     "name": "stdout",
     "output_type": "stream",
     "text": [
      "[23, 65, 19, 90, 70, 66, 98, 74, 444]\n",
      "[23, 65, 19, 90, 66, 70, 98, 74, 444]\n"
     ]
    }
   ],
   "source": [
    "l = [23, 65, 19, 90, 70, 66, 98,74,444]\n",
    "print(l)\n",
    "p1,p2=4,5\n",
    "l[p1],l[p2]=l[p2],l[p1]\n",
    "print(l)"
   ]
  },
  {
   "cell_type": "code",
   "execution_count": 10,
   "id": "84e4710a",
   "metadata": {},
   "outputs": [
    {
     "name": "stdout",
     "output_type": "stream",
     "text": [
      "[23, 65, 19, 90, 70, 66, 98, 74, 444]\n",
      "[23, 65, 19, 90, 70, 66, 98, 444, 74]\n"
     ]
    }
   ],
   "source": [
    "l = [23, 65, 19, 90, 70, 66, 98,74,444]\n",
    "print(l)\n",
    "p1,p2 = 7,8\n",
    "l[p1],l[p2]=l[p2],l[p1]\n",
    "print(l)\n"
   ]
  },
  {
   "cell_type": "code",
   "execution_count": 11,
   "id": "708595a2",
   "metadata": {},
   "outputs": [
    {
     "data": {
      "text/plain": [
       "9"
      ]
     },
     "execution_count": 11,
     "metadata": {},
     "output_type": "execute_result"
    }
   ],
   "source": [
    "l = [23, 65, 19, 90, 70, 66, 98,74,444]\n",
    "len(l)"
   ]
  },
  {
   "cell_type": "markdown",
   "id": "34e8b0d7",
   "metadata": {},
   "source": [
    "Find Maximum of two numbers in Python"
   ]
  },
  {
   "cell_type": "code",
   "execution_count": 13,
   "id": "52ee273b",
   "metadata": {},
   "outputs": [
    {
     "name": "stdout",
     "output_type": "stream",
     "text": [
      "b is maximum\n"
     ]
    }
   ],
   "source": [
    "a=45\n",
    "b=67\n",
    "\n",
    "if a>b:\n",
    "    print('a is maximum')\n",
    "if b>a:\n",
    "    print('b is maximum')"
   ]
  },
  {
   "cell_type": "code",
   "execution_count": 14,
   "id": "cf73e530",
   "metadata": {},
   "outputs": [
    {
     "data": {
      "text/plain": [
       "'b is maximum'"
      ]
     },
     "execution_count": 14,
     "metadata": {},
     "output_type": "execute_result"
    }
   ],
   "source": [
    "def maximum(a,b):\n",
    "    if a>b:\n",
    "        return('a is maximum')\n",
    "    if b>a:\n",
    "        return('b is maximum')\n",
    "a = 67\n",
    "b = 89\n",
    "\n",
    "maximum(a,b)\n",
    "        "
   ]
  },
  {
   "cell_type": "code",
   "execution_count": 15,
   "id": "39a88edd",
   "metadata": {},
   "outputs": [
    {
     "name": "stdout",
     "output_type": "stream",
     "text": [
      "b is small\n"
     ]
    }
   ],
   "source": [
    "a = 99\n",
    "b = 77\n",
    "if a<b:\n",
    "    print('a is small')\n",
    "if b<a:\n",
    "    print('b is small')"
   ]
  },
  {
   "cell_type": "code",
   "execution_count": 16,
   "id": "62329f03",
   "metadata": {},
   "outputs": [
    {
     "data": {
      "text/plain": [
       "'a is small'"
      ]
     },
     "execution_count": 16,
     "metadata": {},
     "output_type": "execute_result"
    }
   ],
   "source": [
    "def smallestnumber(a,b):\n",
    "    if a<b:\n",
    "        return('a is small')\n",
    "    if b<a:\n",
    "        return('b is small')\n",
    "a=8\n",
    "b=78\n",
    "smallestnumber(a,b)"
   ]
  },
  {
   "cell_type": "markdown",
   "id": "6a7297cc",
   "metadata": {},
   "source": [
    "Check if element exists in list in Python"
   ]
  },
  {
   "cell_type": "code",
   "execution_count": 1,
   "id": "bad7ba17",
   "metadata": {},
   "outputs": [
    {
     "name": "stdout",
     "output_type": "stream",
     "text": [
      "print element is not in list\n",
      "element is present in list\n",
      "print element is not in list\n",
      "print element is not in list\n",
      "print element is not in list\n",
      "print element is not in list\n",
      "print element is not in list\n",
      "print element is not in list\n",
      "print element is not in list\n"
     ]
    }
   ],
   "source": [
    "l = [23, 65, 19, 90, 70, 66, 98,74,444]\n",
    "for i in l:\n",
    "    if i==65:\n",
    "        print('element is present in list')\n",
    "    else:\n",
    "        print('print element is not in list')"
   ]
  },
  {
   "cell_type": "code",
   "execution_count": 23,
   "id": "28a3f90c",
   "metadata": {},
   "outputs": [
    {
     "name": "stdout",
     "output_type": "stream",
     "text": [
      "element is not present in list\n",
      "element is not present in list\n",
      "element is not present in list\n",
      "element is not present in list\n",
      "element is not present in list\n",
      "element is not present in list\n",
      "element is not present in list\n",
      "element is not present in list\n",
      "element is not present in list\n"
     ]
    }
   ],
   "source": [
    "l = [23, 65, 19, 90, 70, 66, 98,74,444]\n",
    "for i in l:\n",
    " if i == 29:\n",
    "    print('element present in a list')\n",
    " else:\n",
    "    print('element is not present in list')"
   ]
  },
  {
   "cell_type": "code",
   "execution_count": 26,
   "id": "ecacfa0d",
   "metadata": {},
   "outputs": [
    {
     "name": "stdout",
     "output_type": "stream",
     "text": [
      "None\n"
     ]
    }
   ],
   "source": [
    "l = [23, 65, 19, 90, 70, 66, 98,74,444]\n",
    "print(l.clear())"
   ]
  },
  {
   "cell_type": "markdown",
   "id": "a19560e4",
   "metadata": {},
   "source": [
    "Reversing a List in Python"
   ]
  },
  {
   "cell_type": "code",
   "execution_count": 33,
   "id": "1dd96b9a",
   "metadata": {},
   "outputs": [
    {
     "name": "stdout",
     "output_type": "stream",
     "text": [
      "[444, 74, 98, 66, 70, 90, 19, 65, 23]\n"
     ]
    }
   ],
   "source": [
    "l = [23, 65, 19, 90, 70, 66, 98,74,444]\n",
    "l.reverse()\n",
    "print(l)"
   ]
  },
  {
   "cell_type": "code",
   "execution_count": 34,
   "id": "e9d40d26",
   "metadata": {},
   "outputs": [
    {
     "data": {
      "text/plain": [
       "[444, 74, 98, 66, 70, 90, 19, 65, 23]"
      ]
     },
     "execution_count": 34,
     "metadata": {},
     "output_type": "execute_result"
    }
   ],
   "source": [
    "l = [23, 65, 19, 90, 70, 66, 98,74,444]\n",
    "l[::-1]"
   ]
  },
  {
   "cell_type": "code",
   "execution_count": 38,
   "id": "12630a93",
   "metadata": {},
   "outputs": [
    {
     "name": "stdout",
     "output_type": "stream",
     "text": [
      "3\n"
     ]
    }
   ],
   "source": [
    "l = [15, 6, 7, 10, 12, 20, 10, 28, 10]\n",
    "c = 0\n",
    "for i in l:\n",
    "    if i == 10:\n",
    "        c = c+1\n",
    "print(c)"
   ]
  },
  {
   "cell_type": "markdown",
   "id": "40865e6b",
   "metadata": {},
   "source": [
    "Find sum and average of List in Python"
   ]
  },
  {
   "cell_type": "code",
   "execution_count": 39,
   "id": "f17f0106",
   "metadata": {},
   "outputs": [
    {
     "name": "stdout",
     "output_type": "stream",
     "text": [
      "sum of list:  46\n",
      "avg of list:  5.75\n"
     ]
    }
   ],
   "source": [
    "l = [4, 5, 1, 2, 9, 7, 10, 8]\n",
    "c = 0\n",
    "for i in l:\n",
    "    c = c + i\n",
    "    avg = c/len(l)\n",
    "print('sum of list: ',c)\n",
    "print('avg of list: ',avg)"
   ]
  },
  {
   "cell_type": "code",
   "execution_count": 40,
   "id": "9f48ec77",
   "metadata": {},
   "outputs": [
    {
     "name": "stdout",
     "output_type": "stream",
     "text": [
      "5.75\n"
     ]
    }
   ],
   "source": [
    "l = [15, 6, 7, 10, 12, 20, 10, 28, 10]\n",
    "def findaverage(list):\n",
    "    c = 0\n",
    "    for i in l:\n",
    "        c = c + i\n",
    "        avg = c/len(list)\n",
    "print(avg)\n",
    "\n",
    "findaverage(l)\n",
    "        \n",
    "        "
   ]
  },
  {
   "cell_type": "markdown",
   "id": "614f2693",
   "metadata": {},
   "source": [
    "Multiply all numbers in the list"
   ]
  },
  {
   "cell_type": "code",
   "execution_count": 42,
   "id": "fd44595f",
   "metadata": {},
   "outputs": [
    {
     "name": "stdout",
     "output_type": "stream",
     "text": [
      "4233600000\n"
     ]
    }
   ],
   "source": [
    "l = [15, 6, 7, 10, 12, 20, 10, 28, 10]\n",
    "r = 1\n",
    "for i in l:\n",
    "    r = r * i\n",
    "print(r)\n",
    "    "
   ]
  },
  {
   "cell_type": "code",
   "execution_count": 44,
   "id": "aab52246",
   "metadata": {},
   "outputs": [
    {
     "data": {
      "text/plain": [
       "90"
      ]
     },
     "execution_count": 44,
     "metadata": {},
     "output_type": "execute_result"
    }
   ],
   "source": [
    "l = [15, 6 ]\n",
    "def multiplication(list):\n",
    "    r = 1\n",
    "    for i in l:\n",
    "        r = r * i\n",
    "    return(r)\n",
    "multiplication(l)"
   ]
  },
  {
   "cell_type": "markdown",
   "id": "ba7e40be",
   "metadata": {},
   "source": [
    "Python program to find smallest number in a list"
   ]
  },
  {
   "cell_type": "code",
   "execution_count": 45,
   "id": "ec93370f",
   "metadata": {},
   "outputs": [
    {
     "name": "stdout",
     "output_type": "stream",
     "text": [
      "smallest number in list:  6\n"
     ]
    }
   ],
   "source": [
    "l = [15, 6, 7, 10, 12, 20, 10, 28, 10]\n",
    "l.sort()\n",
    "print('smallest number in list: ',l[0])"
   ]
  },
  {
   "cell_type": "code",
   "execution_count": 49,
   "id": "95c04e79",
   "metadata": {},
   "outputs": [
    {
     "name": "stdout",
     "output_type": "stream",
     "text": [
      "6\n"
     ]
    }
   ],
   "source": [
    "l = [15, 6, 7, 10, 12, 20, 10, 28, 10]\n",
    "min1 = l[0]\n",
    "for i in range(0,len(l)):\n",
    "    if l[i]<min1:\n",
    "        min1 = l[i]\n",
    "print(min1)"
   ]
  },
  {
   "cell_type": "code",
   "execution_count": 51,
   "id": "51bdab81",
   "metadata": {},
   "outputs": [
    {
     "name": "stdout",
     "output_type": "stream",
     "text": [
      "1\n"
     ]
    }
   ],
   "source": [
    "l = [8,9,67,65,45,1,2]\n",
    "m = l[0]\n",
    "for i in range(0,len(l)):\n",
    "    if l[i]<m:\n",
    "        m = l[i]\n",
    "print(m)\n",
    "    \n",
    "        "
   ]
  },
  {
   "cell_type": "markdown",
   "id": "0cd7a750",
   "metadata": {},
   "source": [
    "Python Program to Find Largest Number in a List"
   ]
  },
  {
   "cell_type": "code",
   "execution_count": 53,
   "id": "bf17c66c",
   "metadata": {},
   "outputs": [
    {
     "name": "stdout",
     "output_type": "stream",
     "text": [
      "28\n"
     ]
    }
   ],
   "source": [
    "l = [15, 6, 7, 10, 12, 20, 10, 28, 10]\n",
    "max = l[0]\n",
    "for i in l:\n",
    "    if i > max:\n",
    "        max = i\n",
    "print(max)"
   ]
  },
  {
   "cell_type": "code",
   "execution_count": 54,
   "id": "eda2c0e7",
   "metadata": {},
   "outputs": [
    {
     "data": {
      "text/plain": [
       "67"
      ]
     },
     "execution_count": 54,
     "metadata": {},
     "output_type": "execute_result"
    }
   ],
   "source": [
    "l = [8,9,67,65,45,1,2]\n",
    "def maximum(list):\n",
    "    max = l[0]\n",
    "    for i in l:\n",
    "        if i>max:\n",
    "            max = i\n",
    "    return(max)\n",
    "maximum(l)\n",
    "        "
   ]
  },
  {
   "cell_type": "code",
   "execution_count": 55,
   "id": "1770a2dc",
   "metadata": {},
   "outputs": [
    {
     "name": "stdout",
     "output_type": "stream",
     "text": [
      "maximum number is:  28\n"
     ]
    }
   ],
   "source": [
    "l = [15, 6, 7, 10, 12, 20, 10, 28, 10]\n",
    "l.sort()\n",
    "print('maximum number is: ',l[-1])"
   ]
  },
  {
   "cell_type": "code",
   "execution_count": 56,
   "id": "4d5056a6",
   "metadata": {},
   "outputs": [
    {
     "name": "stdout",
     "output_type": "stream",
     "text": [
      "second largest number in the list is:  65\n"
     ]
    }
   ],
   "source": [
    "l = [8,9,67,65,45,1,2]\n",
    "l.sort()\n",
    "print('second largest number in the list is: ',l[-2])"
   ]
  },
  {
   "cell_type": "code",
   "execution_count": 63,
   "id": "4fbf8ff0",
   "metadata": {},
   "outputs": [
    {
     "name": "stdout",
     "output_type": "stream",
     "text": [
      "8\n",
      "2\n"
     ]
    }
   ],
   "source": [
    "l = [8,9,67,65,45,1,2]\n",
    "l1 = []\n",
    "for i in l:\n",
    "    if i%2 == 0:\n",
    "       print(i)"
   ]
  },
  {
   "cell_type": "markdown",
   "id": "5b289831",
   "metadata": {},
   "source": [
    "Python program to print even numbers in a list"
   ]
  },
  {
   "cell_type": "code",
   "execution_count": 7,
   "id": "74e7befa",
   "metadata": {},
   "outputs": [
    {
     "name": "stdout",
     "output_type": "stream",
     "text": [
      "[8, 2]\n"
     ]
    }
   ],
   "source": [
    "l = [8,9,67,65,45,1,2]\n",
    "l2 = []\n",
    "for i in l:\n",
    "    if i%2 == 0:\n",
    "        l2.append(i)\n",
    "print(l2)"
   ]
  },
  {
   "cell_type": "markdown",
   "id": "eef9df34",
   "metadata": {},
   "source": [
    "Python program to print all odd numbers in a range"
   ]
  },
  {
   "cell_type": "code",
   "execution_count": 10,
   "id": "6f5dc4aa",
   "metadata": {},
   "outputs": [
    {
     "name": "stdout",
     "output_type": "stream",
     "text": [
      "[9, 67, 65, 45, 1]\n"
     ]
    }
   ],
   "source": [
    "l = [8,9,67,65,45,1,2]\n",
    "l2 = []\n",
    "for i in l:\n",
    "    if i%2 !=0:\n",
    "       l2.append(i)\n",
    "print(l2)"
   ]
  },
  {
   "cell_type": "markdown",
   "id": "02d675d1",
   "metadata": {},
   "source": [
    "sort odd and even number"
   ]
  },
  {
   "cell_type": "code",
   "execution_count": 11,
   "id": "f02f5445",
   "metadata": {},
   "outputs": [
    {
     "name": "stdout",
     "output_type": "stream",
     "text": [
      "[8, 2]\n",
      "[9, 67, 65, 45, 1]\n"
     ]
    }
   ],
   "source": [
    "l = [8,9,67,65,45,1,2]\n",
    "l1 = []\n",
    "l2 = []\n",
    "for i in l:\n",
    "    if i%2==0:\n",
    "        l1.append(i)\n",
    "    if i%2 !=0:\n",
    "        l2.append(i)\n",
    "print(l1)\n",
    "print(l2)"
   ]
  },
  {
   "cell_type": "markdown",
   "id": "970ff152",
   "metadata": {},
   "source": [
    "Python program to count Even and Odd numbers in a List"
   ]
  },
  {
   "cell_type": "code",
   "execution_count": 13,
   "id": "afb205b8",
   "metadata": {},
   "outputs": [
    {
     "name": "stdout",
     "output_type": "stream",
     "text": [
      "2\n",
      "5\n"
     ]
    }
   ],
   "source": [
    "l = [8,9,67,65,45,1,2]\n",
    "c_e = 0\n",
    "c_o = 0\n",
    "for i in l:\n",
    "    if i%2==0:\n",
    "        c_e=c_e+1\n",
    "    if i%2 !=0:\n",
    "        c_o=c_o+1\n",
    "print(c_e)\n",
    "print(c_o)"
   ]
  },
  {
   "cell_type": "markdown",
   "id": "f47f1f1a",
   "metadata": {},
   "source": [
    "Python program to print all positive numbers in a range"
   ]
  },
  {
   "cell_type": "code",
   "execution_count": 14,
   "id": "bf3616ab",
   "metadata": {},
   "outputs": [
    {
     "name": "stdout",
     "output_type": "stream",
     "text": [
      "1\n",
      "2\n",
      "3\n",
      "4\n"
     ]
    }
   ],
   "source": [
    "for i in range(-4,5):\n",
    "    if i>0:\n",
    "        print(i)"
   ]
  },
  {
   "cell_type": "markdown",
   "id": "4f4fb126",
   "metadata": {},
   "source": [
    "Remove empty tuples from a list"
   ]
  },
  {
   "cell_type": "code",
   "execution_count": 16,
   "id": "1ea63e29",
   "metadata": {},
   "outputs": [
    {
     "name": "stdout",
     "output_type": "stream",
     "text": [
      "[('ram', '15', '8'), ('laxman', 'sita'), ('krishna', 'akbar', '45'), ('', '')]\n"
     ]
    }
   ],
   "source": [
    "t = [(), ('ram','15','8'), (), ('laxman', 'sita'),('krishna', 'akbar', '45'), ('',''),()]\n",
    "for i in t:\n",
    "    if len(i)==0:\n",
    "        t.remove(i)\n",
    "print(t)"
   ]
  },
  {
   "cell_type": "markdown",
   "id": "a70ba8e1",
   "metadata": {},
   "source": [
    "Program to print duplicates from a list of integers"
   ]
  },
  {
   "cell_type": "code",
   "execution_count": 19,
   "id": "083fbbaa",
   "metadata": {},
   "outputs": [
    {
     "name": "stdout",
     "output_type": "stream",
     "text": [
      "[10, 20, 30, 40, 50, -20, 60]\n",
      "[20, 30, 60, -20]\n"
     ]
    }
   ],
   "source": [
    "l = [10, 20, 30, 20, 20, 30, 40, 50, -20, 60, 60, -20, -20]\n",
    "u = []\n",
    "d = []\n",
    "for i in l:\n",
    "    if i not in u:\n",
    "        u.append(i)\n",
    "    elif i not in d:\n",
    "        d.append(i)\n",
    "print(u)\n",
    "print(d)"
   ]
  },
  {
   "cell_type": "code",
   "execution_count": 2,
   "id": "ff05e098",
   "metadata": {},
   "outputs": [
    {
     "name": "stdout",
     "output_type": "stream",
     "text": [
      "[97, 8, 9, 10, 88, 77, 4, 5]\n",
      "[10, 97, 4, 77, 88]\n"
     ]
    }
   ],
   "source": [
    "l = [97,8,9,10,10,97,88,77,4,4,5,77,88]\n",
    "dup = []\n",
    "uni = []\n",
    "for i in l:\n",
    "    if i not in dup:\n",
    "        dup.append(i)\n",
    "    elif i not in uni:\n",
    "        uni.append(i)\n",
    "print(dup)\n",
    "print(uni)\n",
    "        "
   ]
  },
  {
   "cell_type": "markdown",
   "id": "324ba10f",
   "metadata": {},
   "source": [
    "Python program to Remove the last element from list"
   ]
  },
  {
   "cell_type": "code",
   "execution_count": 3,
   "id": "d4113fc3",
   "metadata": {},
   "outputs": [
    {
     "data": {
      "text/plain": [
       "[13, 34, 36, 23, 15]"
      ]
     },
     "execution_count": 3,
     "metadata": {},
     "output_type": "execute_result"
    }
   ],
   "source": [
    "l = [13, 34, 36, 23, 15, 88]\n",
    "del l[-1]\n",
    "l"
   ]
  },
  {
   "cell_type": "markdown",
   "id": "9b168f1a",
   "metadata": {},
   "source": [
    "Divide all Elements of a List by a Number in Python"
   ]
  },
  {
   "cell_type": "code",
   "execution_count": 6,
   "id": "14cc2b36",
   "metadata": {},
   "outputs": [
    {
     "name": "stdout",
     "output_type": "stream",
     "text": [
      "enter the number: 7\n",
      "14\n",
      "0\n",
      "21\n"
     ]
    }
   ],
   "source": [
    "l = [14, 8, 0, 12, 981, 21, -99]\n",
    "n = int(input(\"enter the number: \",))\n",
    "for i in l:\n",
    "    if i%n == 0:\n",
    "        print(i)"
   ]
  },
  {
   "cell_type": "markdown",
   "id": "7801116e",
   "metadata": {},
   "source": [
    "Find index of maximum item in list"
   ]
  },
  {
   "cell_type": "code",
   "execution_count": 11,
   "id": "5f934040",
   "metadata": {},
   "outputs": [
    {
     "name": "stdout",
     "output_type": "stream",
     "text": [
      "4\n"
     ]
    }
   ],
   "source": [
    "l = [14, 8, 0, 12, 981, 21, -99]\n",
    "index = 0\n",
    "max_element = l[0]\n",
    "for i in range(0,len(l)):\n",
    "    if l[i] > max_element:\n",
    "        max_element=l[i]\n",
    "        index = i\n",
    "        print(index)"
   ]
  },
  {
   "cell_type": "code",
   "execution_count": 12,
   "id": "44fba076",
   "metadata": {},
   "outputs": [
    {
     "name": "stdout",
     "output_type": "stream",
     "text": [
      "4\n"
     ]
    }
   ],
   "source": [
    "l = [14, 8, 0, 12, 981, 21, -99]\n",
    "m = max(l)\n",
    "print(l.index(m))"
   ]
  },
  {
   "cell_type": "code",
   "execution_count": 3,
   "id": "9900aaf7",
   "metadata": {},
   "outputs": [
    {
     "name": "stdout",
     "output_type": "stream",
     "text": [
      "97\n"
     ]
    }
   ],
   "source": [
    "l = [97, 8, 9, 10, 88, 77, 4, 5]\n",
    "print(max(l))"
   ]
  },
  {
   "cell_type": "code",
   "execution_count": 19,
   "id": "11703aba",
   "metadata": {},
   "outputs": [
    {
     "name": "stdout",
     "output_type": "stream",
     "text": [
      "0\n"
     ]
    }
   ],
   "source": [
    "l = [97, 8, 9, 10, 88, 77, 4, 5]\n",
    "ind = 0\n",
    "max_e = l[0]\n",
    "for i in range(0,len(l)):\n",
    "    if l[i]>max_e:\n",
    "        max_e = l[i]\n",
    "        ind = i\n",
    "print(ind)"
   ]
  },
  {
   "cell_type": "code",
   "execution_count": 21,
   "id": "32a80a53",
   "metadata": {},
   "outputs": [
    {
     "name": "stdout",
     "output_type": "stream",
     "text": [
      "2\n"
     ]
    }
   ],
   "source": [
    "l = [8,9,67,65,45,1,2]\n",
    "ind = 0\n",
    "max_i = l[0]\n",
    "for i in range(0,len(l)):\n",
    "    if l[i]>max_i:\n",
    "        max_i=l[i]\n",
    "        ind = i\n",
    "print(ind)"
   ]
  },
  {
   "cell_type": "code",
   "execution_count": 22,
   "id": "e9fd3c28",
   "metadata": {},
   "outputs": [
    {
     "data": {
      "text/plain": [
       "2"
      ]
     },
     "execution_count": 22,
     "metadata": {},
     "output_type": "execute_result"
    }
   ],
   "source": [
    "l = [8,9,67,65,45,1,2]\n",
    "l.index(max(l))"
   ]
  },
  {
   "cell_type": "code",
   "execution_count": 5,
   "id": "6a6950b6",
   "metadata": {},
   "outputs": [
    {
     "name": "stdout",
     "output_type": "stream",
     "text": [
      "enter the number: 21\n",
      "[12, 33, 10, 20, 25]\n",
      "[12, 33, 10, 20, 25]\n",
      "[12, 33, 10, 20, 25]\n"
     ]
    }
   ],
   "source": [
    "l = [12, 33, 10, 20, 25]\n",
    "n = int(input(\"enter the number: \"))\n",
    "for i in l:\n",
    "    if i<n:\n",
    "           print(l)\n"
   ]
  },
  {
   "cell_type": "markdown",
   "id": "2786e9f7",
   "metadata": {},
   "source": [
    "Python Program to get Maximum product of elements of list in a 2D list"
   ]
  },
  {
   "cell_type": "code",
   "execution_count": 8,
   "id": "707c9d1c",
   "metadata": {},
   "outputs": [
    {
     "name": "stdout",
     "output_type": "stream",
     "text": [
      "162\n"
     ]
    }
   ],
   "source": [
    "\n",
    "m = 0\n",
    "p = 1\n",
    "for i in l:\n",
    "    p = p * i[2]\n",
    "print(p)"
   ]
  },
  {
   "cell_type": "markdown",
   "id": "0b04a961",
   "metadata": {},
   "source": [
    "Python Program to Square Each Odd Number in a List using List Comprehension"
   ]
  },
  {
   "cell_type": "code",
   "execution_count": 16,
   "id": "6cd34659",
   "metadata": {},
   "outputs": [
    {
     "name": "stdout",
     "output_type": "stream",
     "text": [
      "1\n",
      "2\n",
      "9\n",
      "4\n",
      "25\n",
      "6\n",
      "49\n"
     ]
    }
   ],
   "source": [
    "l=[1,2,3,4,5,6,7]\n",
    "for i in l:\n",
    "    if i%2!=0:\n",
    "        i = i*i\n",
    "    print(i)"
   ]
  },
  {
   "cell_type": "markdown",
   "id": "cea253c9",
   "metadata": {},
   "source": [
    "Remove common elements from two list in Python"
   ]
  },
  {
   "cell_type": "code",
   "execution_count": 3,
   "id": "77641c49",
   "metadata": {},
   "outputs": [
    {
     "name": "stdout",
     "output_type": "stream",
     "text": [
      "[4, 5]\n"
     ]
    }
   ],
   "source": [
    "l1 = [1, 2, 3, 4, 5]  \n",
    "l2 = [4, 5, 6, 7, 8,]\n",
    "l3 = []\n",
    "for i in l1:\n",
    "    for j in l2:\n",
    "        if i==j:\n",
    "            l3.append(i)\n",
    "print(l3)"
   ]
  },
  {
   "cell_type": "markdown",
   "id": "7c9ad10c",
   "metadata": {},
   "source": [
    " Remove empty List from List"
   ]
  },
  {
   "cell_type": "code",
   "execution_count": 2,
   "id": "a1fede4d",
   "metadata": {},
   "outputs": [
    {
     "name": "stdout",
     "output_type": "stream",
     "text": [
      "[5, 6, 3, 9]\n"
     ]
    }
   ],
   "source": [
    "l = [5, 6, [], 3, [], [], 9]\n",
    "res = []\n",
    "for i in l:\n",
    "    if i != []:\n",
    "        res.append(i)\n",
    "print(res)"
   ]
  },
  {
   "cell_type": "markdown",
   "id": "d68d90ce",
   "metadata": {},
   "source": [
    "How to count unique values inside a list"
   ]
  },
  {
   "cell_type": "code",
   "execution_count": 2,
   "id": "74a67a08",
   "metadata": {},
   "outputs": [
    {
     "name": "stdout",
     "output_type": "stream",
     "text": [
      "[1, 2, 5, 8, 4]\n",
      "5\n"
     ]
    }
   ],
   "source": [
    "l = [1, 2, 2, 5, 8, 4, 4, 8]\n",
    "l1 = []\n",
    "c = 0\n",
    "for i in l:\n",
    "    if i not in l1:\n",
    "        c = c + 1\n",
    "        l1.append(i)\n",
    "print(l1)\n",
    "print(c)"
   ]
  },
  {
   "cell_type": "markdown",
   "id": "a8d24673",
   "metadata": {},
   "source": [
    "List product excluding duplicates"
   ]
  },
  {
   "cell_type": "code",
   "execution_count": 13,
   "id": "2ddc24f9",
   "metadata": {},
   "outputs": [
    {
     "name": "stdout",
     "output_type": "stream",
     "text": [
      "[1, 3, 5, 6]\n",
      "90\n"
     ]
    }
   ],
   "source": [
    "l =[1, 3, 5, 6, 3, 5, 6, 1]\n",
    "l1 = []\n",
    "for i in l:\n",
    "    if i not in l1:\n",
    "        l1.append(i)\n",
    "print(l1)\n",
    "res = 1\n",
    "for ele in l1:\n",
    "    res = res * ele\n",
    "print(res)"
   ]
  },
  {
   "cell_type": "markdown",
   "id": "76489497",
   "metadata": {},
   "source": [
    "Convert List to List of dictionaries"
   ]
  },
  {
   "cell_type": "code",
   "execution_count": 9,
   "id": "44574ce3",
   "metadata": {},
   "outputs": [
    {
     "name": "stdout",
     "output_type": "stream",
     "text": [
      "[{'name': 'Gfg', 'number': 3}, {'name': 'is', 'number': 8}, {'name': 'Best', 'number': 10}, {'name': 'for', 'number': 18}, {'name': 'Geeks', 'number': 33}]\n"
     ]
    }
   ],
   "source": [
    "l = [\"Gfg\", 3, \"is\", 8, \"Best\", 10, \"for\", 18, \"Geeks\", 33]\n",
    "\n",
    "k_l = ['name','number']\n",
    "res = []\n",
    "for i in range(0,len(l),2):\n",
    "    res.append({k_l[0]: l[i],k_l[1]: l[i+1]})\n",
    "print(res)\n",
    "    "
   ]
  },
  {
   "cell_type": "markdown",
   "id": "e70710f3",
   "metadata": {},
   "source": [
    " Convert Lists of List to Dictionary"
   ]
  },
  {
   "cell_type": "code",
   "execution_count": 11,
   "id": "82751939",
   "metadata": {},
   "outputs": [],
   "source": [
    "test_list = [['a', 'b', 1, 2], ['c', 'd', 3, 4], ['e', 'f', 5, 6]]"
   ]
  },
  {
   "cell_type": "markdown",
   "id": "91421f8d",
   "metadata": {},
   "source": [
    " Uncommon elements in Lists of List"
   ]
  },
  {
   "cell_type": "code",
   "execution_count": 12,
   "id": "7dae728e",
   "metadata": {},
   "outputs": [
    {
     "name": "stdout",
     "output_type": "stream",
     "text": [
      "[[5, 6], [5, 7]]\n"
     ]
    }
   ],
   "source": [
    "l1 = [ [1, 2], [3, 4], [5, 6] ]\n",
    "l2 = [ [3, 4], [5, 7], [1, 2] ]\n",
    "res = []\n",
    "for i in l1:\n",
    "    if i not in l2:\n",
    "        res.append(i)\n",
    "for j in l2:\n",
    "    if j not in l1:\n",
    "        res.append(j)\n",
    "print(res)"
   ]
  },
  {
   "cell_type": "markdown",
   "id": "8234137c",
   "metadata": {},
   "source": [
    " Reverse Row sort in Lists of List"
   ]
  },
  {
   "cell_type": "code",
   "execution_count": 14,
   "id": "58ded0b2",
   "metadata": {},
   "outputs": [
    {
     "name": "stdout",
     "output_type": "stream",
     "text": [
      "[[6, 4, 1], [8, 7], [10, 8, 4]]\n"
     ]
    }
   ],
   "source": [
    "l = [[4, 1, 6], [7, 8], [4, 10, 8]]\n",
    "for i in l:\n",
    "    i.sort(reverse = True)\n",
    "print(l)"
   ]
  },
  {
   "cell_type": "code",
   "execution_count": 16,
   "id": "e07af55f",
   "metadata": {},
   "outputs": [
    {
     "name": "stdout",
     "output_type": "stream",
     "text": [
      "[[1, 4, 6], [7, 8], [4, 8, 10]]\n"
     ]
    }
   ],
   "source": [
    "l = [[4, 1, 6], [7, 8], [4, 10, 8]]\n",
    "for i in l:\n",
    "    i.sort(reverse=False)\n",
    "print(l)"
   ]
  },
  {
   "cell_type": "markdown",
   "id": "8194fcd4",
   "metadata": {},
   "source": [
    "Pair elements with Rear element in Matrix Row"
   ]
  },
  {
   "cell_type": "code",
   "execution_count": 17,
   "id": "f540ba75",
   "metadata": {},
   "outputs": [],
   "source": [
    "test_list = [[4, 5, 6], [2, 4, 5], [6, 7, 5]]"
   ]
  },
  {
   "cell_type": "markdown",
   "id": "0ee6a5ae",
   "metadata": {},
   "source": [
    "How to count unique values inside a list"
   ]
  },
  {
   "cell_type": "code",
   "execution_count": 20,
   "id": "6c42bb48",
   "metadata": {},
   "outputs": [
    {
     "name": "stdout",
     "output_type": "stream",
     "text": [
      "5\n",
      "[1, 2, 5, 8, 4]\n"
     ]
    }
   ],
   "source": [
    "l = [1, 2, 2, 5, 8, 4, 4, 8]\n",
    "c = 0\n",
    "l1 = []\n",
    "for i in l:\n",
    "    if i not in l1:\n",
    "        l1.append(i)\n",
    "        c = c + 1\n",
    "print(c)\n",
    "print(l1)"
   ]
  },
  {
   "cell_type": "code",
   "execution_count": 23,
   "id": "f941aa0b",
   "metadata": {},
   "outputs": [
    {
     "name": "stdout",
     "output_type": "stream",
     "text": [
      "[1, 7, 88, 3, 4, 23, 5, 6]\n",
      "8\n"
     ]
    }
   ],
   "source": [
    "l = [1,7,7,88,3,4,23,23,5,6,7,3,4,6]\n",
    "l1 = []\n",
    "c = 0\n",
    "for i in l:\n",
    "    if i not in l1:\n",
    "        l1.append(i)\n",
    "        c = c + 1\n",
    "print(l1)\n",
    "print(c)"
   ]
  },
  {
   "cell_type": "code",
   "execution_count": 26,
   "id": "ed3e29ba",
   "metadata": {},
   "outputs": [
    {
     "name": "stdout",
     "output_type": "stream",
     "text": [
      "[5, 7, 8, 4, 6, 3, 45, 46, 78]\n",
      "9\n"
     ]
    }
   ],
   "source": [
    "l = [5,7,8,4,6,3,45,6,7,8,3,46,78,45]\n",
    "l1 = []\n",
    "c = 0\n",
    "for i in l:\n",
    "    if i not in l1:\n",
    "        l1.append(i)\n",
    "        c = c + 1\n",
    "print(l1)\n",
    "print(c)\n",
    "    "
   ]
  },
  {
   "cell_type": "markdown",
   "id": "dd384174",
   "metadata": {},
   "source": [
    "List product excluding duplicates"
   ]
  },
  {
   "cell_type": "code",
   "execution_count": 41,
   "id": "e4bce331",
   "metadata": {},
   "outputs": [
    {
     "name": "stdout",
     "output_type": "stream",
     "text": [
      "[1, 3, 5, 6]\n",
      "90\n"
     ]
    }
   ],
   "source": [
    "l = [1, 3, 5, 6, 3, 5, 6, 1]\n",
    "\n",
    "l1 = []\n",
    "for i in l:\n",
    "    if i not in l1:\n",
    "        l1.append(i)\n",
    "   \n",
    "print(l1)\n",
    "\n",
    "prod = 1\n",
    "\n",
    "for j in l1:\n",
    "    prod = prod * j\n",
    "print(prod)\n",
    "    \n",
    "\n"
   ]
  },
  {
   "cell_type": "code",
   "execution_count": 42,
   "id": "83862f38",
   "metadata": {},
   "outputs": [
    {
     "name": "stdout",
     "output_type": "stream",
     "text": [
      "[5, 7, 8, 4, 6, 3, 45, 46, 78]\n",
      "3255033600\n"
     ]
    }
   ],
   "source": [
    "l = [5,7,8,4,6,3,45,6,7,8,3,46,78,45]\n",
    "l1 = []\n",
    "for i in l:\n",
    "    if i not in l1:\n",
    "        l1.append(i)\n",
    "print(l1)\n",
    "prod = 1\n",
    "for j in l1:\n",
    "    prod = prod *  j\n",
    "print(prod)\n",
    "    "
   ]
  },
  {
   "cell_type": "markdown",
   "id": "ab7833c7",
   "metadata": {},
   "source": [
    "Python program to check if the list contains three consecutive common numbers in Python"
   ]
  },
  {
   "cell_type": "code",
   "execution_count": 2,
   "id": "ce7658af",
   "metadata": {},
   "outputs": [
    {
     "name": "stdout",
     "output_type": "stream",
     "text": [
      "5\n"
     ]
    }
   ],
   "source": [
    "l = [4, 5, 5, 5, 3, 8]\n",
    "for i in range(0,len(l)-2):\n",
    "    if l[i]==l[i+1] and l[i+1]==l[i+2]:\n",
    "        print(l[i])"
   ]
  },
  {
   "cell_type": "code",
   "execution_count": 58,
   "id": "ee0d8f65",
   "metadata": {},
   "outputs": [
    {
     "name": "stdout",
     "output_type": "stream",
     "text": [
      "1\n",
      "22\n"
     ]
    }
   ],
   "source": [
    "l = [1, 1, 1, 64, 23, 64, 22, 22, 22]\n",
    "s = len(l)\n",
    "for i in range(0,s - 2):\n",
    "    if l[i]==l[i+1] and l[i+1]==l[i+2]:\n",
    "        print(l[i])"
   ]
  },
  {
   "cell_type": "markdown",
   "id": "252b7d38",
   "metadata": {},
   "source": [
    "Python Program to print all Possible Combinations from the three Digits"
   ]
  },
  {
   "cell_type": "code",
   "execution_count": 65,
   "id": "4a4456a2",
   "metadata": {},
   "outputs": [
    {
     "name": "stdout",
     "output_type": "stream",
     "text": [
      "1 2 3\n",
      "1 3 2\n",
      "2 1 3\n",
      "2 3 1\n",
      "3 1 2\n",
      "3 2 1\n"
     ]
    }
   ],
   "source": [
    "def comb(l):\n",
    "    for i in range(0,3):\n",
    "        for j in range(0,3):\n",
    "            for k in range(0,3):\n",
    "                if (i!=j and j!=k and i!=k):\n",
    "                    print(l[i],l[j],l[k])\n",
    "      \n",
    "comb([1,2,3])"
   ]
  },
  {
   "cell_type": "code",
   "execution_count": 66,
   "id": "d57064e6",
   "metadata": {},
   "outputs": [
    {
     "name": "stdout",
     "output_type": "stream",
     "text": [
      "1 2 3\n",
      "1 2 4\n",
      "1 2 5\n",
      "1 3 2\n",
      "1 3 4\n",
      "1 3 5\n",
      "1 4 2\n",
      "1 4 3\n",
      "1 4 5\n",
      "1 5 2\n",
      "1 5 3\n",
      "1 5 4\n",
      "2 1 3\n",
      "2 1 4\n",
      "2 1 5\n",
      "2 3 1\n",
      "2 3 4\n",
      "2 3 5\n",
      "2 4 1\n",
      "2 4 3\n",
      "2 4 5\n",
      "2 5 1\n",
      "2 5 3\n",
      "2 5 4\n",
      "3 1 2\n",
      "3 1 4\n",
      "3 1 5\n",
      "3 2 1\n",
      "3 2 4\n",
      "3 2 5\n",
      "3 4 1\n",
      "3 4 2\n",
      "3 4 5\n",
      "3 5 1\n",
      "3 5 2\n",
      "3 5 4\n",
      "4 1 2\n",
      "4 1 3\n",
      "4 1 5\n",
      "4 2 1\n",
      "4 2 3\n",
      "4 2 5\n",
      "4 3 1\n",
      "4 3 2\n",
      "4 3 5\n",
      "4 5 1\n",
      "4 5 2\n",
      "4 5 3\n",
      "5 1 2\n",
      "5 1 3\n",
      "5 1 4\n",
      "5 2 1\n",
      "5 2 3\n",
      "5 2 4\n",
      "5 3 1\n",
      "5 3 2\n",
      "5 3 4\n",
      "5 4 1\n",
      "5 4 2\n",
      "5 4 3\n"
     ]
    }
   ],
   "source": [
    "def co(L):\n",
    "    for i in range(0,5):\n",
    "        for j in range(0,5):\n",
    "            for k in range(0,5):\n",
    "                if (i!=j and j!=k and i!=k):\n",
    "                    print(L[i],L[j],L[k])\n",
    "co([1,2,3,4,5])"
   ]
  },
  {
   "cell_type": "markdown",
   "id": "f9aceb9c",
   "metadata": {},
   "source": [
    "User will input (3ages).Find the oldest one"
   ]
  },
  {
   "cell_type": "code",
   "execution_count": 67,
   "id": "5bd994ac",
   "metadata": {},
   "outputs": [
    {
     "name": "stdout",
     "output_type": "stream",
     "text": [
      "enter the number: 45\n",
      "enter the number: 7\n",
      "enter the number4\n",
      "a is greater\n"
     ]
    }
   ],
   "source": [
    "a = int(input(\"enter the number: \"))\n",
    "b = int(input(\"enter the number: \"))\n",
    "c = int(input(\"enter the number\"))\n",
    "if a>b and a>c:\n",
    "    print(\"a is greater\")\n",
    "if b>a and b>c:\n",
    "    print(\"b is greater\")\n",
    "if c>a and c>b:\n",
    "    print(\"c is greater\")"
   ]
  },
  {
   "cell_type": "markdown",
   "id": "00d8f1f3",
   "metadata": {},
   "source": [
    "Write a program that will convert celsius value to fahrenheit"
   ]
  },
  {
   "cell_type": "code",
   "execution_count": 69,
   "id": "0b5e3dc7",
   "metadata": {},
   "outputs": [
    {
     "name": "stdout",
     "output_type": "stream",
     "text": [
      "enter the temp in fahrenheit: 56\n",
      "132.8\n"
     ]
    }
   ],
   "source": [
    "t = int(input(\"enter the temp in fahrenheit: \"))\n",
    "f = (t*1.8)+32\n",
    "print(f)"
   ]
  },
  {
   "cell_type": "markdown",
   "id": "523864d5",
   "metadata": {},
   "source": [
    "User will input (2numbers).Write a program to swap the numbers"
   ]
  },
  {
   "cell_type": "code",
   "execution_count": 71,
   "id": "5f02cb15",
   "metadata": {},
   "outputs": [
    {
     "name": "stdout",
     "output_type": "stream",
     "text": [
      "enter the number: 56\n",
      "enter the number: 67\n",
      "the value of a is 67\n",
      "the value of b is 56\n"
     ]
    }
   ],
   "source": [
    "a = int(input(\"enter the number: \"))\n",
    "b = int(input(\"enter the number: \"))\n",
    "temp = a\n",
    "a = b\n",
    "b= temp\n",
    "print(\"the value of a is\",a)\n",
    "print(\"the value of b is\",b)"
   ]
  },
  {
   "cell_type": "markdown",
   "id": "49212f3b",
   "metadata": {},
   "source": [
    "Write a program that will give you the sum of 3 digits"
   ]
  },
  {
   "cell_type": "code",
   "execution_count": 74,
   "id": "4ea921c0",
   "metadata": {},
   "outputs": [
    {
     "name": "stdout",
     "output_type": "stream",
     "text": [
      "enter the number: 567\n",
      "sum of three digit number is 18\n"
     ]
    }
   ],
   "source": [
    "user_input = int(input(\"enter the number: \"))\n",
    "n = user_input\n",
    "a = n%10\n",
    "n = n//10\n",
    "b = n%10\n",
    "c = n//10\n",
    "t = a+b+c\n",
    "print(\"sum of three digit number is\",t)\n"
   ]
  },
  {
   "cell_type": "markdown",
   "id": "5865aa61",
   "metadata": {},
   "source": [
    "Write a program that will reverse a four digit number.Also it checks \n",
    "whether the reverse is true"
   ]
  },
  {
   "cell_type": "code",
   "execution_count": 76,
   "id": "85833b9b",
   "metadata": {},
   "outputs": [
    {
     "name": "stdout",
     "output_type": "stream",
     "text": [
      "enter the four digit number: 8765\n",
      "original number: 8765\n",
      "reversed number: 5678\n"
     ]
    }
   ],
   "source": [
    "user_input = int(input(\"enter the four digit number: \"))\n",
    "n = user_input\n",
    "a = n%10\n",
    "n = n//10\n",
    "b = n%10\n",
    "n = n//10\n",
    "c = n%10\n",
    "d = n//10\n",
    "rev = 1000*a+100*b+10*c+d\n",
    "print(\"original number:\",user_input)\n",
    "print(\"reversed number:\",rev)"
   ]
  },
  {
   "cell_type": "markdown",
   "id": "f59496f0",
   "metadata": {},
   "source": [
    "Write a program that will tell whether the number entered by the \n",
    "user is odd or even"
   ]
  },
  {
   "cell_type": "code",
   "execution_count": 80,
   "id": "d3f04ca0",
   "metadata": {},
   "outputs": [
    {
     "name": "stdout",
     "output_type": "stream",
     "text": [
      "enter the number: 89\n",
      "the number is odd\n"
     ]
    }
   ],
   "source": [
    "n = int(input(\"enter the number: \"))\n",
    "if n % 2 ==0:\n",
    "    print(\"number is even\")\n",
    "if n % 2 !=0:\n",
    "    print(\"the number is odd\")"
   ]
  },
  {
   "cell_type": "markdown",
   "id": "752ac406",
   "metadata": {},
   "source": [
    "Write a program that will tell whether the given year is a leap year \n",
    "or not"
   ]
  },
  {
   "cell_type": "code",
   "execution_count": 89,
   "id": "0d426d2e",
   "metadata": {},
   "outputs": [
    {
     "name": "stdout",
     "output_type": "stream",
     "text": [
      "enter the year: 2023\n",
      "not leap year\n"
     ]
    }
   ],
   "source": [
    "year = int(input(\"enter the year: \"))\n",
    "if year % 4 == 0:\n",
    "    print(\"leap year\")\n",
    "elif year % 100 == 0 and year % 400 == 0:\n",
    "    print(\"leap year\")\n",
    "else:\n",
    "    print(\"not leap year\")"
   ]
  },
  {
   "cell_type": "markdown",
   "id": "e410efb3",
   "metadata": {},
   "source": [
    "Write a program to find the euclidean distance between two \n",
    "coordinates.\n"
   ]
  },
  {
   "cell_type": "code",
   "execution_count": 94,
   "id": "a97ffbec",
   "metadata": {},
   "outputs": [
    {
     "name": "stdout",
     "output_type": "stream",
     "text": [
      "enter x1 coordinate: 45\n",
      "enter the x2 coordinate: 5\n",
      "enter the y1 coordinate: 6\n",
      "enter the y2 coordinate: 3\n",
      "795.5\n"
     ]
    }
   ],
   "source": [
    "x1 = int(input(\"enter x1 coordinate: \"))\n",
    "x2 = int(input(\"enter the x2 coordinate: \"))\n",
    "y1 = int(input(\"enter the y1 coordinate: \"))\n",
    "y2 = int(input(\"enter the y2 coordinate: \"))\n",
    "\n",
    "E = ((x2-x1)**2-(y2-y1)**2)**1/2\n",
    "print(E)"
   ]
  },
  {
   "cell_type": "markdown",
   "id": "4a86ef2a",
   "metadata": {},
   "source": [
    "Write a program that take a user inputr of three angles and will \n",
    "find out whether it can form a triangle or not."
   ]
  },
  {
   "cell_type": "code",
   "execution_count": 97,
   "id": "069cba35",
   "metadata": {},
   "outputs": [
    {
     "name": "stdout",
     "output_type": "stream",
     "text": [
      "enter the first angle: 65\n",
      "enter the second angle: 65\n",
      "enter the third angle: 50\n",
      "its triangle\n"
     ]
    }
   ],
   "source": [
    "a = int(input(\"enter the first angle: \"))\n",
    "b = int(input(\"enter the second angle: \"))\n",
    "c = int(input(\"enter the third angle: \"))\n",
    "if (a + b + c) ==180:\n",
    "    print(\"its triangle\")\n",
    "else:\n",
    "    print(\"not a triangle\")"
   ]
  },
  {
   "cell_type": "markdown",
   "id": "8009966c",
   "metadata": {},
   "source": [
    "Write a program that will take user input of cost price and selling \n",
    "price and determines whether its a loss or a profit"
   ]
  },
  {
   "cell_type": "code",
   "execution_count": 99,
   "id": "d7f25c4d",
   "metadata": {},
   "outputs": [
    {
     "name": "stdout",
     "output_type": "stream",
     "text": [
      "enter the number: 70\n",
      "enter the number: 65\n",
      "loss\n"
     ]
    }
   ],
   "source": [
    "c_p = int(input(\"enter the number: \"))\n",
    "s_p = int(input(\"enter the number: \"))\n",
    "if c_p<s_p:\n",
    "    print(\"profit\")\n",
    "else:\n",
    "    print(\"loss\")"
   ]
  },
  {
   "cell_type": "markdown",
   "id": "7d50a156",
   "metadata": {},
   "source": [
    "Write a program to find the simple interest when the value of \n",
    "principle,rate of interest and time period is given."
   ]
  },
  {
   "cell_type": "code",
   "execution_count": 1,
   "id": "e06f3627",
   "metadata": {},
   "outputs": [
    {
     "name": "stdout",
     "output_type": "stream",
     "text": [
      "enter the value of principle: 1000\n",
      "enter the interest rate: 8\n",
      "enter the time period: 5\n",
      "simple interest:  400.0\n"
     ]
    }
   ],
   "source": [
    "p = int(input(\"enter the value of principle: \"))\n",
    "r =  int(input(\"enter the interest rate: \"))\n",
    "t = int(input(\"enter the time period: \"))\n",
    "simple_interest = p*r*t/100\n",
    "print(\"simple interest: \",simple_interest)"
   ]
  },
  {
   "cell_type": "markdown",
   "id": "7bccf463",
   "metadata": {},
   "source": [
    "Write a program to find the volume of the cylinder. Also find the \n",
    "cost when ,when the cost of 1litre milk is 40Rs."
   ]
  },
  {
   "cell_type": "code",
   "execution_count": 3,
   "id": "0b600ac6",
   "metadata": {},
   "outputs": [
    {
     "name": "stdout",
     "output_type": "stream",
     "text": [
      "enter the radius of cylinder: 60\n",
      "enter the height of cylinder: 130\n",
      "volume of cylinder is:  1469520.0\n",
      "cost:  20800.0\n"
     ]
    }
   ],
   "source": [
    "r = int(input(\"enter the radius of cylinder: \"))\n",
    "h = int(input(\"enter the height of cylinder: \"))\n",
    "v_c = 3.14 * (r**2) * h\n",
    "print(\"volume of cylinder is: \",v_c)\n",
    "cost = (v_c%1000)*40\n",
    "print(\"cost: \",cost)"
   ]
  },
  {
   "cell_type": "markdown",
   "id": "569cdce1",
   "metadata": {},
   "source": [
    ". Write a program that will tell whether the given number is divisible \n",
    "by 3 & 6"
   ]
  },
  {
   "cell_type": "code",
   "execution_count": 5,
   "id": "3e84b0d2",
   "metadata": {},
   "outputs": [
    {
     "name": "stdout",
     "output_type": "stream",
     "text": [
      "enter the number: 9\n",
      "not divisible by 3 and 6\n"
     ]
    }
   ],
   "source": [
    "n = int(input(\"enter the number: \"))\n",
    "if n%3 == 0 and n%6 == 0:\n",
    "    print(\"number is divisible by 3 and 6\")\n",
    "else:\n",
    "    print(\"not divisible by 3 and 6\")"
   ]
  },
  {
   "cell_type": "markdown",
   "id": "f1a13705",
   "metadata": {},
   "source": [
    "Write a program that will determine weather when the value of \n",
    "temperature and humidity is provided by the user.\n",
    "TEMPERATURE(C) HUMIDITY(%) WEATHER\n",
    " >= 30 >=90 Hot and Humid\n",
    " >= 30 < 90 Hot\n",
    " <30 >= 90 Cool and Humid\n",
    " <30 <90 Cool"
   ]
  },
  {
   "cell_type": "code",
   "execution_count": 6,
   "id": "547c2c9f",
   "metadata": {},
   "outputs": [
    {
     "name": "stdout",
     "output_type": "stream",
     "text": [
      "enter the temp in c: 76\n",
      "enter the humidity in %: 90\n",
      "weather is hot and humid\n"
     ]
    }
   ],
   "source": [
    "t = int(input(\"enter the temp in c: \"))\n",
    "h = int(input(\"enter the humidity in %: \"))\n",
    "if t>=30 and h>=90:\n",
    "    print(\"weather is hot and humid\")\n",
    "if t>=30 and h<90:\n",
    "    print(\"weather is hot\")\n",
    "if t<30 and h>=90:\n",
    "    print(\"weather is cool and humid\")\n",
    "if t<30 and h<30:\n",
    "    print(\"weather is cool\")"
   ]
  },
  {
   "cell_type": "markdown",
   "id": "dcde01b1",
   "metadata": {},
   "source": [
    "Write a program that will take three digits from the user and add \n",
    "the square of each digit"
   ]
  },
  {
   "cell_type": "code",
   "execution_count": 2,
   "id": "7a816307",
   "metadata": {},
   "outputs": [
    {
     "name": "stdout",
     "output_type": "stream",
     "text": [
      "enter the number: 416\n",
      "53\n"
     ]
    }
   ],
   "source": [
    "n = int(input(\"enter the number: \"))\n",
    "a = n%10\n",
    "n = n//10\n",
    "b = n%10\n",
    "c = n//10\n",
    "s = (a**2)+(b**2)+(c**2)\n",
    "print(s)"
   ]
  },
  {
   "cell_type": "markdown",
   "id": "1876fc84",
   "metadata": {},
   "source": [
    " Write a program that will check whether the number is armstrong \n",
    "number or not"
   ]
  },
  {
   "cell_type": "code",
   "execution_count": 8,
   "id": "b491fe91",
   "metadata": {},
   "outputs": [
    {
     "name": "stdout",
     "output_type": "stream",
     "text": [
      "enter the number: 408\n",
      "576\n",
      "not armstrong number\n"
     ]
    }
   ],
   "source": [
    "user_input = int(input(\"enter the number: \"))\n",
    "n = user_input\n",
    "a = n%10\n",
    "n = n//10\n",
    "b = n%10\n",
    "c = n//10\n",
    "s = (a**3)+(b**3)+(c**3)\n",
    "print(s)\n",
    "if user_input == s:\n",
    "    print(\"given number is armstrong number\")\n",
    "else:\n",
    "    print(\"not armstrong number\")"
   ]
  },
  {
   "cell_type": "markdown",
   "id": "2506aaad",
   "metadata": {},
   "source": [
    "Write a program that will take user input of (4 digits number) and \n",
    "check whether the number is narcissist number or not"
   ]
  },
  {
   "cell_type": "code",
   "execution_count": 11,
   "id": "00329c06",
   "metadata": {},
   "outputs": [
    {
     "name": "stdout",
     "output_type": "stream",
     "text": [
      "enter the four digit number: 1515\n",
      "1252\n",
      "not narcissist\n"
     ]
    }
   ],
   "source": [
    "user_input = int(input(\"enter the four digit number: \"))\n",
    "n = user_input\n",
    "a = n%10\n",
    "n = n//10\n",
    "b = n%10\n",
    "n = n//10\n",
    "c = n%10\n",
    "d = n//10\n",
    "s = (a**4)+(b**4)+(c**4)+(d**4)\n",
    "print(s)\n",
    "if user_input == s:\n",
    "    print(\"number is narcissist\")\n",
    "else:\n",
    "    print(\"not narcissist\")"
   ]
  },
  {
   "cell_type": "markdown",
   "id": "742d8b55",
   "metadata": {},
   "source": [
    "Write a program that will give you the in hand salary after \n",
    "deduction of HRA(10%),DA(5%),PF(3%), and tax(if salary is between \n",
    "5-10 lakh–10%),(11-20lakh–20%),(20< _ – 30%)(0-1lakh print k)."
   ]
  },
  {
   "cell_type": "code",
   "execution_count": 9,
   "id": "674cd3d8",
   "metadata": {},
   "outputs": [
    {
     "name": "stdout",
     "output_type": "stream",
     "text": [
      "enter the salary amount: 1500000\n",
      "930000.0\n"
     ]
    }
   ],
   "source": [
    "s = int(input(\"enter the salary amount: \"))\n",
    "t_s = s - (((10+5+3)/100)*s)\n",
    "if s>500000 and s<1000000:\n",
    "    print(t_s - (10/100)*s)\n",
    "if s>1100000 and s<2000000:\n",
    "    print(t_s - (20/100)*s)\n",
    "if s>2000000:\n",
    "    print(t_s - (30/100)*s)\n",
    "    \n"
   ]
  },
  {
   "cell_type": "markdown",
   "id": "08cf665d",
   "metadata": {},
   "source": [
    "Write a menu driven program - 1.cm to ft 2.kl to miles 3.usd to inr \n",
    "4.exit"
   ]
  },
  {
   "cell_type": "code",
   "execution_count": 10,
   "id": "04c84d97",
   "metadata": {},
   "outputs": [
    {
     "name": "stdout",
     "output_type": "stream",
     "text": [
      "0.03280839895013123\n",
      "1.2430080795525171\n",
      "983.88\n"
     ]
    }
   ],
   "source": [
    "cm_f = 1/30.48\n",
    "kl_m = 2/1.609\n",
    "usd_in = 245.97*4\n",
    "print(cm_f)\n",
    "print(kl_m)\n",
    "print(usd_in)"
   ]
  },
  {
   "cell_type": "markdown",
   "id": "3163ccae",
   "metadata": {},
   "source": [
    "Write a program that will tell the number of dogs and \n",
    "chicken are there when the user will provide the value of total \n",
    "heads and legs.\n"
   ]
  },
  {
   "cell_type": "code",
   "execution_count": 12,
   "id": "8c70fa0a",
   "metadata": {},
   "outputs": [
    {
     "name": "stdout",
     "output_type": "stream",
     "text": [
      "enter the number of heads: 1\n",
      "enter the number of legs: 4\n",
      "dog\n"
     ]
    }
   ],
   "source": [
    "h = int(input(\"enter the number of heads: \"))\n",
    "l = int(input(\"enter the number of legs: \"))\n",
    "if h == 1 and l == 2:\n",
    "    print(\"chicken\")\n",
    "elif h == 1 and l == 4:\n",
    "    print(\"dog\")\n",
    "else:\n",
    "    print(\"please enter valid input\")"
   ]
  },
  {
   "cell_type": "markdown",
   "id": "97821b68",
   "metadata": {},
   "source": [
    " Write a program that will swap numbers"
   ]
  },
  {
   "cell_type": "code",
   "execution_count": 13,
   "id": "6466792c",
   "metadata": {},
   "outputs": [
    {
     "name": "stdout",
     "output_type": "stream",
     "text": [
      "enter the first number: 45\n",
      "enter the second number: 56\n",
      "56\n",
      "45\n"
     ]
    }
   ],
   "source": [
    "a = int(input(\"enter the first number: \"))\n",
    "b = int(input(\"enter the second number: \"))\n",
    "temp = a\n",
    "a = b\n",
    "b = temp\n",
    "print(a)\n",
    "print(b)"
   ]
  },
  {
   "cell_type": "code",
   "execution_count": 15,
   "id": "ac91d80f",
   "metadata": {},
   "outputs": [
    {
     "name": "stdout",
     "output_type": "stream",
     "text": [
      "[8, 2, 3, 4, 5, 7, 1]\n"
     ]
    }
   ],
   "source": [
    "l = [1,2,3,4,5,7,8]\n",
    "temp = l[0]\n",
    "l[0] = l[-1]\n",
    "l[-1] = temp\n",
    "print(l)"
   ]
  },
  {
   "cell_type": "code",
   "execution_count": 25,
   "id": "9a6e1fc0",
   "metadata": {},
   "outputs": [
    {
     "name": "stdout",
     "output_type": "stream",
     "text": [
      "enter the number: 56\n",
      "enter the number: 45\n",
      "45\n",
      "56\n"
     ]
    }
   ],
   "source": [
    "a = int(input(\"enter the number: \"))\n",
    "b = int(input(\"enter the number: \"))\n",
    "a = a + b\n",
    "b = a - b\n",
    "a = a - b\n",
    "print(a)\n",
    "print(b)"
   ]
  },
  {
   "cell_type": "markdown",
   "id": "4e6065d5",
   "metadata": {},
   "source": [
    "Write a program to find the sum of first n numbers, where n will be \n",
    "provided by the user. Eg if the user provides n=10 the output should be \n",
    "55"
   ]
  },
  {
   "cell_type": "code",
   "execution_count": 18,
   "id": "dc84dfcb",
   "metadata": {},
   "outputs": [
    {
     "name": "stdout",
     "output_type": "stream",
     "text": [
      "enter the number: 10\n",
      "55.0\n"
     ]
    }
   ],
   "source": [
    "n = int(input(\"enter the number: \"))\n",
    "sum = n*(n+1)/2\n",
    "print(sum)"
   ]
  },
  {
   "cell_type": "markdown",
   "id": "65743a65",
   "metadata": {},
   "source": [
    "Write a program that can multiply 2 numbers provided by the user \n",
    "without using the * operator"
   ]
  },
  {
   "cell_type": "code",
   "execution_count": 19,
   "id": "e575eb7c",
   "metadata": {},
   "outputs": [
    {
     "name": "stdout",
     "output_type": "stream",
     "text": [
      "enter the number: 4\n",
      "enter the number: 5\n",
      "20\n"
     ]
    }
   ],
   "source": [
    "a = int(input(\"enter the number: \"))\n",
    "b = int(input(\"enter the number: \"))\n",
    "pro = 0\n",
    "for i in range(1,b+1):\n",
    "    pro = pro + a\n",
    "print(pro)"
   ]
  },
  {
   "cell_type": "markdown",
   "id": "62cb914a",
   "metadata": {},
   "source": [
    "4.Write a program that can find the factorial of a given number provided \n",
    "by the user"
   ]
  },
  {
   "cell_type": "code",
   "execution_count": 23,
   "id": "9a3e2a19",
   "metadata": {},
   "outputs": [
    {
     "name": "stdout",
     "output_type": "stream",
     "text": [
      "enter the number: 5\n",
      "120\n"
     ]
    }
   ],
   "source": [
    "n = int(input(\"enter the number: \"))\n",
    "fact = 1\n",
    "if n<0:\n",
    "    print(\"factorial does not exist\")\n",
    "if n == 0:\n",
    "    print(\"factorial is one\")\n",
    "if n>1:\n",
    "    for i in range(1,n+1):\n",
    "         fact = fact * i\n",
    "print(fact)\n",
    "   "
   ]
  },
  {
   "cell_type": "code",
   "execution_count": 27,
   "id": "14bd0efe",
   "metadata": {},
   "outputs": [
    {
     "name": "stdout",
     "output_type": "stream",
     "text": [
      "enter the number: 5\n",
      "factorial of given number is:  120\n"
     ]
    }
   ],
   "source": [
    "n = int(input(\"enter the number: \"))\n",
    "i = 1\n",
    "if i>0:\n",
    "    while n>=1:\n",
    "        i = i * n\n",
    "        n = n - 1\n",
    "    print(\"factorial of given number is: \",i)\n",
    "\n",
    "else:\n",
    "    print(\"factorial is not found\")\n",
    "    "
   ]
  },
  {
   "cell_type": "markdown",
   "id": "c45d3a92",
   "metadata": {},
   "source": [
    "Write a program to print the first 25 odd number"
   ]
  },
  {
   "cell_type": "code",
   "execution_count": 30,
   "id": "229444ac",
   "metadata": {},
   "outputs": [
    {
     "name": "stdout",
     "output_type": "stream",
     "text": [
      "1\n",
      "3\n",
      "5\n",
      "7\n",
      "9\n",
      "11\n",
      "13\n",
      "15\n",
      "17\n",
      "19\n",
      "21\n",
      "23\n",
      "25\n",
      "27\n",
      "29\n",
      "31\n",
      "33\n",
      "35\n",
      "37\n",
      "39\n",
      "41\n"
     ]
    }
   ],
   "source": [
    "n = 40\n",
    "for i in range(0,n+1):\n",
    "    if i%2 == 0:\n",
    "        i = i + 1\n",
    "        print(i)"
   ]
  },
  {
   "cell_type": "markdown",
   "id": "5b98350d",
   "metadata": {},
   "source": [
    "\n",
    "Write a program to print whether a given number is prime number or \n",
    "not\n"
   ]
  },
  {
   "cell_type": "code",
   "execution_count": 41,
   "id": "e981f54c",
   "metadata": {},
   "outputs": [
    {
     "name": "stdout",
     "output_type": "stream",
     "text": [
      "2\n",
      "3\n",
      "5\n",
      "7\n",
      "11\n",
      "13\n",
      "17\n",
      "19\n",
      "23\n"
     ]
    }
   ],
   "source": [
    "for num in range(1,25):\n",
    "    if num>1:\n",
    "        for i in range(2,num):\n",
    "            if num % i == 0:\n",
    "                break\n",
    "        else:\n",
    "            print(num)\n"
   ]
  },
  {
   "cell_type": "code",
   "execution_count": 43,
   "id": "18b15aee",
   "metadata": {},
   "outputs": [
    {
     "name": "stdout",
     "output_type": "stream",
     "text": [
      "enter the number: 2\n",
      "enter the number: 90\n",
      "2\n",
      "3\n",
      "5\n",
      "7\n",
      "11\n",
      "13\n",
      "17\n",
      "19\n",
      "23\n",
      "29\n",
      "31\n",
      "37\n",
      "41\n",
      "43\n",
      "47\n",
      "53\n",
      "59\n",
      "61\n",
      "67\n",
      "71\n",
      "73\n",
      "79\n",
      "83\n",
      "89\n"
     ]
    }
   ],
   "source": [
    "lower_l = int(input(\"enter the number: \"))\n",
    "upper_l = int(input(\"enter the number: \"))\n",
    "for num in range(lower_l,upper_l):\n",
    "    if num>1:\n",
    "        for i in range(2,num):\n",
    "            if num%i==0:\n",
    "                break\n",
    "        else:\n",
    "            print(num)"
   ]
  },
  {
   "cell_type": "markdown",
   "id": "25bf0f6f",
   "metadata": {},
   "source": [
    "Print all the armstrong numbers in the range of 100 to 1000"
   ]
  },
  {
   "cell_type": "code",
   "execution_count": 53,
   "id": "f18895df",
   "metadata": {},
   "outputs": [
    {
     "name": "stdout",
     "output_type": "stream",
     "text": [
      "153\n",
      "370\n",
      "371\n",
      "407\n"
     ]
    }
   ],
   "source": [
    "for i in range(100,1000):\n",
    "    n = i\n",
    "    a = n%10\n",
    "    n = n//10\n",
    "    b = n%10\n",
    "    c = n//10\n",
    "    \n",
    "    if ((a**3)+(b**3)+(c**3))==i:\n",
    "        print(i)\n",
    "    i = i+1"
   ]
  },
  {
   "cell_type": "markdown",
   "id": "ffe62ff2",
   "metadata": {},
   "source": [
    "The current population of a town is 10000. The population of the town is \n",
    "increasing at the rate of 10% per year. You have to write a program to \n",
    "find out the population at the end of each of the last 10 years. For eg \n",
    "current population is 10000 so the output should be like this:\n",
    "10th year - 10000\n",
    "9th year - 9000\n",
    "8th year - 8100 and so on"
   ]
  },
  {
   "cell_type": "code",
   "execution_count": 55,
   "id": "ccd36902",
   "metadata": {},
   "outputs": [
    {
     "name": "stdout",
     "output_type": "stream",
     "text": [
      "9000.0\n",
      "8100.0\n",
      "7290.0\n",
      "6561.0\n",
      "5904.9\n",
      "5314.41\n",
      "4782.969\n",
      "4304.6721\n",
      "3874.20489\n"
     ]
    }
   ],
   "source": [
    "flag = 0\n",
    "a = 10000\n",
    "while True:\n",
    "    b = a - ((a*10)/100)\n",
    "    a = b\n",
    "    print(b)\n",
    "    flag = flag + 1\n",
    "    \n",
    "    if flag == 9:\n",
    "        break"
   ]
  },
  {
   "cell_type": "code",
   "execution_count": 56,
   "id": "3622ff7f",
   "metadata": {},
   "outputs": [
    {
     "name": "stdout",
     "output_type": "stream",
     "text": [
      "10000\n",
      "9000.0\n",
      "8100.0\n",
      "7290.0\n",
      "6561.0\n",
      "5904.9\n",
      "5314.41\n",
      "4782.969\n",
      "4304.6721\n",
      "3874.20489\n"
     ]
    }
   ],
   "source": [
    "flag = 0\n",
    "a = 10000\n",
    "print(a)\n",
    "while True:\n",
    "    b = (a)-((a*10)/100)\n",
    "    a = b\n",
    "    print(b)\n",
    "    flag = flag + 1\n",
    "    if flag == 9:\n",
    "        break"
   ]
  },
  {
   "cell_type": "markdown",
   "id": "29f80a40",
   "metadata": {},
   "source": [
    "Write a program to print all the unique combinations of 1,2,3 and 4"
   ]
  },
  {
   "cell_type": "code",
   "execution_count": 57,
   "id": "9db97ec5",
   "metadata": {},
   "outputs": [
    {
     "name": "stdout",
     "output_type": "stream",
     "text": [
      "1 2\n",
      "1 3\n",
      "1 4\n",
      "2 1\n",
      "2 3\n",
      "2 4\n",
      "3 1\n",
      "3 2\n",
      "3 4\n",
      "4 1\n",
      "4 2\n",
      "4 3\n"
     ]
    }
   ],
   "source": [
    "for i in range(1,5):\n",
    "    for j in range(1,5):\n",
    "        if i!=j:\n",
    "            print(i,j)"
   ]
  },
  {
   "cell_type": "markdown",
   "id": "047fa7b2",
   "metadata": {},
   "source": [
    "User will provide 2 numbers you have to find the HCF of those 2 \n",
    "numbers"
   ]
  },
  {
   "cell_type": "code",
   "execution_count": 59,
   "id": "2f601316",
   "metadata": {},
   "outputs": [
    {
     "name": "stdout",
     "output_type": "stream",
     "text": [
      "enter the number: 3\n",
      "enter the number: 4\n",
      "3\n",
      "1\n"
     ]
    }
   ],
   "source": [
    "a = int(input(\"enter the number: \"))\n",
    "b = int(input(\"enter the number: \"))\n",
    "while a%b != 0:\n",
    "    rem = a%b\n",
    "    a = b\n",
    "    b = rem\n",
    "    print(b)"
   ]
  },
  {
   "cell_type": "code",
   "execution_count": 60,
   "id": "b3b88616",
   "metadata": {},
   "outputs": [
    {
     "name": "stdout",
     "output_type": "stream",
     "text": [
      "enter the number: 6\n",
      "enter the number: 8\n",
      "6\n",
      "2\n"
     ]
    }
   ],
   "source": [
    "a = int(input(\"enter the number: \"))\n",
    "b = int(input(\"enter the number: \"))\n",
    "while a%b != 0:\n",
    "    rem = a%b\n",
    "    a = b\n",
    "    b = rem\n",
    "    print(b)"
   ]
  },
  {
   "cell_type": "markdown",
   "id": "05f1e0b4",
   "metadata": {},
   "source": [
    "User will provide 2 numbers you have to find the by LCM of those 2 \n",
    "numbers"
   ]
  },
  {
   "cell_type": "code",
   "execution_count": 62,
   "id": "b1517ffd",
   "metadata": {},
   "outputs": [
    {
     "name": "stdout",
     "output_type": "stream",
     "text": [
      "enter the number: 6\n",
      "enter the number: 7\n",
      "your lcm is: 42.0\n"
     ]
    }
   ],
   "source": [
    "a = int(input(\"enter the number: \"))\n",
    "num_1 = a\n",
    "b = int(input(\"enter the number: \"))\n",
    "num_2 = b\n",
    "while num_1%num_2 !=0:\n",
    "    rem = num_1%num_2\n",
    "    num_1 = num_2\n",
    "    num_2 = rem\n",
    "    hcf = num_2\n",
    "lcm = (a*b)/hcf\n",
    "print(\"your lcm is:\",lcm)"
   ]
  },
  {
   "cell_type": "markdown",
   "id": "f15ef68b",
   "metadata": {},
   "source": [
    ".Print first 25 prime numbers"
   ]
  },
  {
   "cell_type": "code",
   "execution_count": 66,
   "id": "25eb51cb",
   "metadata": {},
   "outputs": [
    {
     "name": "stdout",
     "output_type": "stream",
     "text": [
      "2\n",
      "3\n",
      "5\n",
      "7\n",
      "11\n",
      "13\n",
      "17\n",
      "19\n",
      "23\n"
     ]
    }
   ],
   "source": [
    "for num in range(0,26):\n",
    "    if num>1:\n",
    "        for i in range(2,num):\n",
    "            if num%i==0:\n",
    "                break\n",
    "        else:\n",
    "                print(num)"
   ]
  },
  {
   "cell_type": "markdown",
   "id": "3ae4fc1f",
   "metadata": {},
   "source": [
    ".Print the first 20 numbers of a Fibonacci series"
   ]
  },
  {
   "cell_type": "code",
   "execution_count": 1,
   "id": "a49d8cb9",
   "metadata": {},
   "outputs": [
    {
     "name": "stdout",
     "output_type": "stream",
     "text": [
      "0\n",
      "1\n",
      "1\n",
      "2\n",
      "3\n",
      "5\n",
      "8\n",
      "13\n",
      "21\n",
      "34\n",
      "55\n",
      "89\n",
      "144\n",
      "233\n",
      "377\n",
      "610\n",
      "987\n",
      "1597\n",
      "2584\n",
      "4181\n"
     ]
    }
   ],
   "source": [
    "count = 0\n",
    "a = 0\n",
    "b = 1\n",
    "print(a)\n",
    "print(b)\n",
    "while True:\n",
    "    c = a + b\n",
    "    a = b\n",
    "    b = c\n",
    "    print(c)\n",
    "    count = count + 1\n",
    "    if count == 18:\n",
    "        break"
   ]
  },
  {
   "cell_type": "markdown",
   "id": "1ea4b794",
   "metadata": {},
   "source": [
    ".Write a program to find the compound interest"
   ]
  },
  {
   "cell_type": "code",
   "execution_count": 2,
   "id": "94e9eb5d",
   "metadata": {},
   "outputs": [
    {
     "name": "stdout",
     "output_type": "stream",
     "text": [
      "enter the principle: 10000\n",
      "enter the rate of interest: 8\n",
      "enter the time period: 2\n",
      "11664.000000000002\n",
      "1664.0000000000018\n"
     ]
    }
   ],
   "source": [
    "p = int(input(\"enter the principle: \"))\n",
    "r = int(input(\"enter the rate of interest: \"))\n",
    "t = int(input(\"enter the time period: \"))\n",
    "a = p * (1+r/100)**t\n",
    "print(a)\n",
    "ci = a - p\n",
    "print(ci)"
   ]
  },
  {
   "cell_type": "markdown",
   "id": "3ebda1fd",
   "metadata": {},
   "source": [
    "Write a Python program that accepts an integer (n) and computes the \n",
    "value of n+nn+nnn.\n"
   ]
  },
  {
   "cell_type": "code",
   "execution_count": 4,
   "id": "0ac3ac1b",
   "metadata": {},
   "outputs": [
    {
     "name": "stdout",
     "output_type": "stream",
     "text": [
      "enter the number: 7\n",
      "n is:  7\n",
      "nn is:  14\n",
      "nnn is:  21\n",
      "42\n"
     ]
    }
   ],
   "source": [
    "n = int(input(\"enter the number: \"))\n",
    "print(\"n is: \",n)\n",
    "nn = n + n\n",
    "print(\"nn is: \",nn)\n",
    "nnn = n + n + n\n",
    "print(\"nnn is: \",nnn)\n",
    "c = n + nn + nnn\n",
    "print(c)"
   ]
  },
  {
   "cell_type": "markdown",
   "id": "7be9bd30",
   "metadata": {},
   "source": [
    ".Take a number from the user and find the number of digits in it"
   ]
  },
  {
   "cell_type": "code",
   "execution_count": 4,
   "id": "38b7687e",
   "metadata": {},
   "outputs": [
    {
     "name": "stdout",
     "output_type": "stream",
     "text": [
      "enter your number: 567\n",
      "1\n",
      "2\n",
      "3\n"
     ]
    }
   ],
   "source": [
    "n = int(input(\"enter your number: \"))\n",
    "count = 0\n",
    "while n>0:\n",
    "    n = n//10\n",
    "    count = count+1\n",
    "    print(count)"
   ]
  },
  {
   "cell_type": "markdown",
   "id": "da6783e3",
   "metadata": {},
   "source": [
    "Print all factors of a given number provided by the user"
   ]
  },
  {
   "cell_type": "code",
   "execution_count": 10,
   "id": "cd6eac19",
   "metadata": {},
   "outputs": [
    {
     "name": "stdout",
     "output_type": "stream",
     "text": [
      "enter the number: 44\n",
      "your factorial is:  1\n",
      "your factorial is:  2\n",
      "your factorial is:  4\n",
      "your factorial is:  11\n",
      "your factorial is:  22\n",
      "your factorial is:  44\n"
     ]
    }
   ],
   "source": [
    "n = int(input(\"enter the number: \"))\n",
    "for i in range(1,n+1):\n",
    "    if n%i==0:\n",
    "         print(\"your factorial is: \",i)"
   ]
  },
  {
   "cell_type": "markdown",
   "id": "0b4785d3",
   "metadata": {},
   "source": [
    "Find the reverse of a number provided by the user(any number of digit)\n"
   ]
  },
  {
   "cell_type": "code",
   "execution_count": null,
   "id": "a15fc27d",
   "metadata": {},
   "outputs": [],
   "source": []
  },
  {
   "cell_type": "markdown",
   "id": "691d59ae",
   "metadata": {},
   "source": [
    "Write a program to print the following pattern\n",
    "*\n",
    "**\n",
    "***\n",
    "****\n",
    "*****"
   ]
  },
  {
   "cell_type": "code",
   "execution_count": 20,
   "id": "30904b6e",
   "metadata": {},
   "outputs": [
    {
     "name": "stdout",
     "output_type": "stream",
     "text": [
      "*    \n",
      "**   \n",
      "***  \n",
      "**** \n",
      "*****\n"
     ]
    }
   ],
   "source": [
    "for i in range(5):\n",
    "    if i == 0:\n",
    "        print(\"*\" + \" \"*4)\n",
    "    if i == 1:\n",
    "        print(\"*\"*2+\" \"*3)\n",
    "    if i == 2:\n",
    "        print(\"*\"*3+\" \"*2)\n",
    "    if i == 3:\n",
    "        print(\"*\"*4+\" \")\n",
    "    if i == 4:\n",
    "        print(\"*\"*5)"
   ]
  },
  {
   "cell_type": "markdown",
   "id": "d358c2c5",
   "metadata": {},
   "source": [
    ".Write a program to print the following pattern\n",
    "*\n",
    "**\n",
    "***"
   ]
  },
  {
   "cell_type": "code",
   "execution_count": 21,
   "id": "ac53fc5f",
   "metadata": {},
   "outputs": [
    {
     "name": "stdout",
     "output_type": "stream",
     "text": [
      "*  \n",
      "** \n",
      "***\n",
      "** \n",
      "*    \n"
     ]
    }
   ],
   "source": [
    "for i in range(5):\n",
    "    if i == 0:\n",
    "        print(\"*\"+\" \"*2)\n",
    "    if i == 1:\n",
    "        print(\"*\"*2+\" \")\n",
    "    if i == 2:\n",
    "        print(\"*\"*3)\n",
    "    if i == 3:\n",
    "        print(\"*\"*2+\" \")\n",
    "    if i == 4:\n",
    "        print(\"*\"+\" \"*4)"
   ]
  },
  {
   "cell_type": "markdown",
   "id": "8341f26a",
   "metadata": {},
   "source": [
    "Write a program to print the following pattern\n",
    " *\n",
    " * * *\n",
    " * * * * *\n",
    " * * * * * * *\n",
    "* * * * * * * * *"
   ]
  },
  {
   "cell_type": "code",
   "execution_count": 22,
   "id": "20a48673",
   "metadata": {},
   "outputs": [
    {
     "name": "stdout",
     "output_type": "stream",
     "text": [
      "    *    \n",
      "   ***   \n",
      "  *****  \n",
      " ******* \n",
      "*********\n"
     ]
    }
   ],
   "source": [
    "for i in range(5):\n",
    "    if i == 0:\n",
    "        print(\" \"*4+\"*\"+\" \"*4)\n",
    "    if i == 1:\n",
    "        print(\" \"*3+\"*\"*3+\" \"*3)\n",
    "    if i == 2:\n",
    "        print(\" \"*2+\"*\"*5+\" \"*2)\n",
    "    if i == 3:\n",
    "        print(\" \"+\"*\"*7+\" \")\n",
    "    if i == 4:\n",
    "        print(\"*\"*9)"
   ]
  },
  {
   "cell_type": "markdown",
   "id": "9d74c56d",
   "metadata": {},
   "source": [
    "te a program to print the following pattern\n",
    "1\n",
    "1 2 1\n",
    "1 2 3 2 1\n",
    "1 2 3 4 3 2 1\n",
    "1 2 3 4 5 4 3 2 1\n"
   ]
  },
  {
   "cell_type": "code",
   "execution_count": 2,
   "id": "8b24eb59",
   "metadata": {},
   "outputs": [
    {
     "name": "stdout",
     "output_type": "stream",
     "text": [
      "enter the number: 5\n",
      "1  \n",
      "1 2 1  \n",
      "1 2 3 2 1  \n",
      "1 2 3 4 3 2 1  \n",
      "1 2 3 4 5 4 3 2 1  \n"
     ]
    }
   ],
   "source": [
    "row = int(input(\"enter the number: \"))\n",
    "for i in range(1,row+1):\n",
    "    for j in range(1,i+1):\n",
    "        print(j,end=' ')\n",
    "    for k in range(i-1,0,-1):\n",
    "        print(k,end=' ')\n",
    "    print(' ')"
   ]
  },
  {
   "cell_type": "markdown",
   "id": "fd955c34",
   "metadata": {},
   "source": [
    "Write a program to print the following pattern\n",
    "1\n",
    "2 3\n",
    "4 5 6\n",
    "7 8 9 10"
   ]
  },
  {
   "cell_type": "code",
   "execution_count": 6,
   "id": "ab336b18",
   "metadata": {},
   "outputs": [
    {
     "name": "stdout",
     "output_type": "stream",
     "text": [
      "enter the number: 4\n",
      "1  \n",
      "2 3  \n",
      "4 5 6  \n",
      "7 8 9 10  \n"
     ]
    }
   ],
   "source": [
    "row = int(input(\"enter the number: \"))\n",
    "num = 1\n",
    "for i in range(1,row+1):\n",
    "    for j in range(1,i+1):\n",
    "        print(num,end= ' ')\n",
    "        num = num + 1\n",
    "    print(' ')"
   ]
  },
  {
   "cell_type": "markdown",
   "id": "a8ca5b0e",
   "metadata": {},
   "source": [
    "Write a program to calculate the sum of the following series till \n",
    "the nth term\n",
    "1/1! + 2/2! + 3/3! + 4/4! +…….+ n/n!\n",
    "n will be provided by the use"
   ]
  },
  {
   "cell_type": "code",
   "execution_count": 8,
   "id": "5f24c85d",
   "metadata": {},
   "outputs": [
    {
     "name": "stdout",
     "output_type": "stream",
     "text": [
      "enter the number: 5\n",
      "2.708333333333333\n"
     ]
    }
   ],
   "source": [
    "n = int(input(\"enter the number: \"))\n",
    "\n",
    "fact = 1\n",
    "r = 0\n",
    "for i in range(1,n+1):\n",
    "    fact = fact * i\n",
    "    r = r + (i/fact)\n",
    "print(r)"
   ]
  },
  {
   "cell_type": "markdown",
   "id": "e32b5d8a",
   "metadata": {},
   "source": [
    ".Write a Python Program to Find the Sum of the Series till the nth term: \n",
    "1 + x^2/2 + x^3/3 + … x^n/n\n",
    "n will be provided by the use"
   ]
  },
  {
   "cell_type": "code",
   "execution_count": 9,
   "id": "19a135e4",
   "metadata": {},
   "outputs": [
    {
     "name": "stdout",
     "output_type": "stream",
     "text": [
      "enter the number: 5\n",
      "enter the number: 6\n",
      "3440.583333333333\n"
     ]
    }
   ],
   "source": [
    "x = int(input(\"enter the number: \"))\n",
    "n = int(input(\"enter the number: \"))\n",
    "s = 1\n",
    "for i in range(2,n+1):\n",
    "    s = s + ((x**i)/i)\n",
    "print(s)"
   ]
  },
  {
   "cell_type": "markdown",
   "id": "5c80ee01",
   "metadata": {},
   "source": [
    "The natural logarithm can be approximated by the following series.\n",
    "If x is input through the keyboard, write a program to calculate the \n",
    "sum of the first seven terms of this series"
   ]
  },
  {
   "cell_type": "code",
   "execution_count": 5,
   "id": "4d68e968",
   "metadata": {},
   "outputs": [
    {
     "name": "stdout",
     "output_type": "stream",
     "text": [
      "enter the number: 8\n",
      "1.6503916047513485\n"
     ]
    }
   ],
   "source": [
    "x = int(input(\"enter the number: \"))\n",
    "n = 7\n",
    "s = (x-1)/x\n",
    "for i in range(1,n+1):\n",
    "    s = s + ((1/2*((x-1)/x))**i)\n",
    "print(s)"
   ]
  },
  {
   "cell_type": "markdown",
   "id": "80fbb3ba",
   "metadata": {},
   "source": [
    "Write a program that keeps on accepting a number from the user until \n",
    "the user enters Zero. Display the sum and average of all the numbers"
   ]
  },
  {
   "cell_type": "code",
   "execution_count": 2,
   "id": "987c2f0f",
   "metadata": {},
   "outputs": [
    {
     "name": "stdout",
     "output_type": "stream",
     "text": [
      "enter the number: 5\n",
      "enter the another number: 6\n",
      "enter the another number: 7\n",
      "enter the another number: 8\n",
      "enter the another number: 9\n",
      "enter the another number: 0\n",
      "thank you\n",
      "sum is: 35\n",
      "average is: 7.0\n"
     ]
    }
   ],
   "source": [
    "n = int(input(\"enter the number: \"))\n",
    "s = 0\n",
    "c = 0\n",
    "avg = 0\n",
    "while True:\n",
    "    if n!=0:\n",
    "        s = s + n\n",
    "        c = c + 1\n",
    "        avg = s/c\n",
    "        n = int(input(\"enter the another number: \"))\n",
    "    else:\n",
    "        print(\"thank you\")\n",
    "        break\n",
    "print(\"sum is:\",s)\n",
    "print(\"average is:\",avg)"
   ]
  },
  {
   "cell_type": "markdown",
   "id": "8618a26c",
   "metadata": {},
   "source": [
    "Write a program that accepts 2 numbers from the user a numerator \n",
    "and a denominator and then simplifies it\n",
    "Eg if the num = 5, den = 15 the answer should be ⅓\n",
    "Eg if the num = 6, den = 9 the answer should be ⅔\n"
   ]
  },
  {
   "cell_type": "code",
   "execution_count": 3,
   "id": "2e3700c5",
   "metadata": {},
   "outputs": [
    {
     "name": "stdout",
     "output_type": "stream",
     "text": [
      "enter the number: 45\n",
      "enter the number: 56\n",
      "0.8035714285714286\n"
     ]
    }
   ],
   "source": [
    "a = int(input(\"enter the number: \"))\n",
    "n1 = a\n",
    "b = int(input(\"enter the number: \"))\n",
    "n2 = b\n",
    "while n1%n2 != 0:\n",
    "    rem = n1%n2\n",
    "    n1 = n2\n",
    "    n2 = rem\n",
    "hcf = n2\n",
    "a = a/hcf\n",
    "b = b/hcf\n",
    "print(a/b)"
   ]
  },
  {
   "cell_type": "markdown",
   "id": "67017e09",
   "metadata": {},
   "source": [
    "Find the length of a given string without using the len() function."
   ]
  },
  {
   "cell_type": "code",
   "execution_count": 4,
   "id": "f2b886b0",
   "metadata": {},
   "outputs": [
    {
     "name": "stdout",
     "output_type": "stream",
     "text": [
      "enter your string: The quik brown fox jumps over the lazy dog\n",
      "42\n"
     ]
    }
   ],
   "source": [
    "s = str(input(\"enter your string: \"))\n",
    "c = 0\n",
    "for i in s:\n",
    "    c = c + 1\n",
    "print(c)"
   ]
  },
  {
   "cell_type": "markdown",
   "id": "796d23ef",
   "metadata": {},
   "source": [
    "Extract username from a given email. \n",
    "Eg if the email is nitish24singh@gmail.com then the username \n",
    "should be nitish24singh"
   ]
  },
  {
   "cell_type": "code",
   "execution_count": 6,
   "id": "34c202e5",
   "metadata": {},
   "outputs": [
    {
     "name": "stdout",
     "output_type": "stream",
     "text": [
      "enter your email: adisartape19149@gmail.com\n",
      "adisartape19149\n"
     ]
    }
   ],
   "source": [
    "email = str(input(\"enter your email: \"))\n",
    "username,mail = email.split('@')\n",
    "print(username)"
   ]
  },
  {
   "cell_type": "markdown",
   "id": "c0a43fa4",
   "metadata": {},
   "source": [
    "Count the frequency of a particular character in a provided string. Eg \n",
    "'hello how are you' is the string, the frequency of h in this string is 2."
   ]
  },
  {
   "cell_type": "code",
   "execution_count": 1,
   "id": "35f8ed17",
   "metadata": {},
   "outputs": [
    {
     "name": "stdout",
     "output_type": "stream",
     "text": [
      "enter your string: the quick brown fox jumps over the lazy dog\n",
      "enter your character: u\n",
      "character occurane:  2\n"
     ]
    }
   ],
   "source": [
    "a = str(input(\"enter your string: \"))\n",
    "b = str(input(\"enter your character: \"))\n",
    "c = 0\n",
    "for i in a:\n",
    "    if b in i:\n",
    "        c = c + 1\n",
    "print(\"character occurane: \",c)"
   ]
  },
  {
   "cell_type": "markdown",
   "id": "dec87c63",
   "metadata": {},
   "source": [
    "Find the index position of a particular character in another string."
   ]
  },
  {
   "cell_type": "code",
   "execution_count": 10,
   "id": "02a770f8",
   "metadata": {},
   "outputs": [
    {
     "name": "stdout",
     "output_type": "stream",
     "text": [
      "enter your string: the quick brown fox jumps over the lazy dog\n",
      "enter your character: o\n",
      "12\n"
     ]
    }
   ],
   "source": [
    "a = str(input(\"enter your string: \"))\n",
    "b = str(input(\"enter your character: \"))\n",
    "print(a.index(b))"
   ]
  },
  {
   "cell_type": "markdown",
   "id": "0c126b0e",
   "metadata": {},
   "source": [
    "Count the number of vowels in a string provided by the user"
   ]
  },
  {
   "cell_type": "code",
   "execution_count": 13,
   "id": "80ad2053",
   "metadata": {},
   "outputs": [
    {
     "name": "stdout",
     "output_type": "stream",
     "text": [
      "enter the string: How are you\n",
      "5\n"
     ]
    }
   ],
   "source": [
    "s = str(input(\"enter the string: \"))\n",
    "o = \"IAEOUiaeou\"\n",
    "c = 0\n",
    "for i in s:\n",
    "    if i in o:\n",
    "        c = c + 1\n",
    "print(c)"
   ]
  },
  {
   "cell_type": "markdown",
   "id": "cf64535e",
   "metadata": {},
   "source": [
    "Write a program which can remove a particular character from a string."
   ]
  },
  {
   "cell_type": "code",
   "execution_count": 14,
   "id": "faaa17d8",
   "metadata": {},
   "outputs": [
    {
     "name": "stdout",
     "output_type": "stream",
     "text": [
      "enter your string: aditya\n",
      "enter the number: 4\n",
      "adiya\n"
     ]
    }
   ],
   "source": [
    "s = input(\"enter your string: \")\n",
    "n = int(input(\"enter the number: \"))\n",
    "a = s[0:n-1]\n",
    "b = s[n:]\n",
    "print(a + b)"
   ]
  },
  {
   "cell_type": "markdown",
   "id": "fcc0cbb3",
   "metadata": {},
   "source": [
    "Write a program that can check whether a given string is palindrome or \n",
    "not"
   ]
  },
  {
   "cell_type": "code",
   "execution_count": 16,
   "id": "9239285f",
   "metadata": {},
   "outputs": [
    {
     "name": "stdout",
     "output_type": "stream",
     "text": [
      "enter your string: how\n",
      "woh\n",
      "not palindrome\n"
     ]
    }
   ],
   "source": [
    "a = input(\"enter your string: \")\n",
    "r = ''\n",
    "for i in range(len(a)-1,-1,-1):\n",
    "    r = r + a[i]\n",
    "print(r)\n",
    "if r == a:\n",
    "    print(\"palindrome\")\n",
    "else:\n",
    "    print(\"not palindrome\")"
   ]
  },
  {
   "cell_type": "markdown",
   "id": "0e990136",
   "metadata": {},
   "source": [
    "Write a python program to remove all the duplicates from a lis"
   ]
  },
  {
   "cell_type": "code",
   "execution_count": 17,
   "id": "34e2d70d",
   "metadata": {},
   "outputs": [
    {
     "name": "stdout",
     "output_type": "stream",
     "text": [
      "[1, 2, 3, 4, 5, 77, 7, 8, 9, 6, 78]\n"
     ]
    }
   ],
   "source": [
    "l = [1,2,3,4,5,77,7,8,9,6,7,4,5,78,2,1]\n",
    "l1 = []\n",
    "for i in l:\n",
    "    if i not in l1:\n",
    "        l1.append(i)\n",
    "print(l1)"
   ]
  },
  {
   "cell_type": "markdown",
   "id": "d57bfb7d",
   "metadata": {},
   "source": [
    "Write a python program to convert a string to title case without using \n",
    "the title()"
   ]
  },
  {
   "cell_type": "code",
   "execution_count": 18,
   "id": "0b71046b",
   "metadata": {},
   "outputs": [
    {
     "name": "stdout",
     "output_type": "stream",
     "text": [
      "enter your string: the quick brown fox jumps over the lazy dog\n",
      "['the', 'quick', 'brown', 'fox', 'jumps', 'over', 'the', 'lazy', 'dog']\n",
      "The Quick Brown Fox Jumps Over The Lazy Dog \n"
     ]
    }
   ],
   "source": [
    "a = input(\"enter your string: \")\n",
    "b = a.split()\n",
    "print(b)\n",
    "r = ''\n",
    "for i in b:\n",
    "    r = r + i[0].upper() + i[1:].lower()+' '\n",
    "print(r)"
   ]
  },
  {
   "cell_type": "code",
   "execution_count": 19,
   "id": "39b1f128",
   "metadata": {},
   "outputs": [
    {
     "name": "stdout",
     "output_type": "stream",
     "text": [
      "enter the string: the quick brown fox jumps over the lazy dog\n",
      "['the', 'quick', 'brown', 'fox', 'jumps', 'over', 'the', 'lazy', 'dog']\n",
      "tHE qUICK bROWN fOX jUMPS oVER tHE lAZY dOG \n"
     ]
    }
   ],
   "source": [
    "a = input(\"enter the string: \")\n",
    "b = a.split()\n",
    "print(b)\n",
    "r = ''\n",
    "for i in b:\n",
    "    r = r + i[0].lower()+i[1:].upper()+' '\n",
    "print(r)"
   ]
  },
  {
   "cell_type": "markdown",
   "id": "2e705c22",
   "metadata": {},
   "source": [
    "Write a python program to find the max item from a list without using \n",
    "the max function"
   ]
  },
  {
   "cell_type": "code",
   "execution_count": 25,
   "id": "b1f201cc",
   "metadata": {},
   "outputs": [
    {
     "name": "stdout",
     "output_type": "stream",
     "text": [
      "max number is:  78\n"
     ]
    }
   ],
   "source": [
    "l = [1,78,54,34,56,3]\n",
    "m = l[0]\n",
    "for i in l:\n",
    "    if i>m:\n",
    "        m = i\n",
    "print(\"max number is: \",m)"
   ]
  },
  {
   "cell_type": "code",
   "execution_count": 27,
   "id": "79f227e1",
   "metadata": {},
   "outputs": [
    {
     "name": "stdout",
     "output_type": "stream",
     "text": [
      "max is:  32255\n"
     ]
    }
   ],
   "source": [
    "l = [56,78,3,456,7,32,35,32255,677,8]\n",
    "max = l[0]\n",
    "for i in l:\n",
    "    if i>max:\n",
    "        max = i\n",
    "print(\"max is: \",max)"
   ]
  },
  {
   "cell_type": "markdown",
   "id": "78d26d82",
   "metadata": {},
   "source": [
    "Write a python program to reverse a lis"
   ]
  },
  {
   "cell_type": "code",
   "execution_count": 29,
   "id": "00339dd5",
   "metadata": {},
   "outputs": [
    {
     "name": "stdout",
     "output_type": "stream",
     "text": [
      "[8, 677, 32255, 35, 32, 7, 456, 3, 78, 56]\n"
     ]
    }
   ],
   "source": [
    "l = [56,78,3,456,7,32,35,32255,677,8]\n",
    "l.reverse()\n",
    "print(l)"
   ]
  },
  {
   "cell_type": "code",
   "execution_count": 31,
   "id": "2aeb0cf7",
   "metadata": {},
   "outputs": [
    {
     "data": {
      "text/plain": [
       "[8, 677, 32255, 35, 32, 7, 456, 3, 78, 56]"
      ]
     },
     "execution_count": 31,
     "metadata": {},
     "output_type": "execute_result"
    }
   ],
   "source": [
    "l = [56,78,3,456,7,32,35,32255,677,8]\n",
    "l[::-1]"
   ]
  },
  {
   "cell_type": "code",
   "execution_count": 32,
   "id": "652c9fb8",
   "metadata": {},
   "outputs": [
    {
     "name": "stdout",
     "output_type": "stream",
     "text": [
      "[8, 677, 32255, 35, 32, 7, 456, 3, 78, 56]\n"
     ]
    }
   ],
   "source": [
    "l = [56,78,3,456,7,32,35,32255,677,8]\n",
    "rev = []\n",
    "for i in range(len(l)-1,-1,-1):\n",
    "    rev.append(l[i])\n",
    "print(rev)"
   ]
  },
  {
   "cell_type": "markdown",
   "id": "d083ad8b",
   "metadata": {},
   "source": [
    "Write a python program to search a given number from a lis"
   ]
  },
  {
   "cell_type": "code",
   "execution_count": 36,
   "id": "d6d2e0aa",
   "metadata": {},
   "outputs": [
    {
     "name": "stdout",
     "output_type": "stream",
     "text": [
      "enter number u want to search: 32255\n",
      "[32255]\n"
     ]
    }
   ],
   "source": [
    "l = [56,78,3,456,7,32,35,32255,677,8]\n",
    "l1 = []\n",
    "n = int(input(\"enter number u want to search: \"))\n",
    "for i in l:\n",
    "    if i == n:\n",
    "        l1.append(i)\n",
    "print(l1)"
   ]
  },
  {
   "cell_type": "markdown",
   "id": "9fde2f5c",
   "metadata": {},
   "source": [
    "Write a program that can create a new list from a given list where each \n",
    "item in the new list is square of the item of the old list"
   ]
  },
  {
   "cell_type": "code",
   "execution_count": 37,
   "id": "7fdbade9",
   "metadata": {},
   "outputs": [
    {
     "name": "stdout",
     "output_type": "stream",
     "text": [
      "[1, 4, 9, 16, 25, 36, 49]\n"
     ]
    }
   ],
   "source": [
    "l = [1,2,3,4,5,6,7]\n",
    "l1 = []\n",
    "for i in l:\n",
    "    l1.append(i**2)\n",
    "print(l1)"
   ]
  },
  {
   "cell_type": "markdown",
   "id": "bae72baf",
   "metadata": {},
   "source": [
    "Write a program that can reverse words of a given string.\n",
    "Eg if the input is Hello how are you\n",
    "Output should be you are how Hello"
   ]
  },
  {
   "cell_type": "code",
   "execution_count": 45,
   "id": "57b9611d",
   "metadata": {},
   "outputs": [
    {
     "name": "stdout",
     "output_type": "stream",
     "text": [
      "['Eg', 'if', 'the', 'input', 'is', 'Hello', 'how', 'are', 'you', 'Output', 'should', 'be', 'you', 'are', 'how', 'Hello']\n",
      "Hello how are you be should Output you are how Hello is input the if Eg\n"
     ]
    }
   ],
   "source": [
    "s = \"Eg if the input is Hello how are you Output should be you are how Hello\"\n",
    "t = s.split()\n",
    "print(t)\n",
    "rev = []\n",
    "for i in range(len(t)-1,-1,-1):\n",
    "    rev.append(t[i])\n",
    "y = ' '.join(rev)\n",
    "print(y)"
   ]
  },
  {
   "cell_type": "code",
   "execution_count": 44,
   "id": "481a76f0",
   "metadata": {},
   "outputs": [
    {
     "name": "stdout",
     "output_type": "stream",
     "text": [
      "['the', 'quick', 'brown', 'fox', 'jumps', 'over', 'the', 'lazy', 'dog']\n",
      "dog lazy the over jumps fox brown quick the\n"
     ]
    }
   ],
   "source": [
    "s = 'the quick brown fox jumps over the lazy dog'\n",
    "t = s.split()\n",
    "print(t)\n",
    "rev = []\n",
    "for i in range(len(t)-1,-1,-1):\n",
    "    rev.append(t[i])\n",
    "y = ' '.join(rev)\n",
    "print(y)"
   ]
  },
  {
   "cell_type": "markdown",
   "id": "f2f053ba",
   "metadata": {},
   "source": [
    "Write a program that can count the number of words in a given string"
   ]
  },
  {
   "cell_type": "code",
   "execution_count": 46,
   "id": "1203b389",
   "metadata": {},
   "outputs": [
    {
     "name": "stdout",
     "output_type": "stream",
     "text": [
      "enter string: the quick brown fox jumps over the lazy dog\n",
      "9\n"
     ]
    }
   ],
   "source": [
    "a = input(\"enter string: \")\n",
    "c = 0\n",
    "for i in a:\n",
    "    if i == ' ':\n",
    "        c = c + 1\n",
    "word = c + 1\n",
    "print(word)"
   ]
  },
  {
   "cell_type": "code",
   "execution_count": 48,
   "id": "95392c89",
   "metadata": {},
   "outputs": [
    {
     "name": "stdout",
     "output_type": "stream",
     "text": [
      "enter your string: how are you\n",
      "3\n"
     ]
    }
   ],
   "source": [
    "a = input(\"enter your string: \")\n",
    "c = 0\n",
    "for i in a:\n",
    "    if i == ' ':\n",
    "        c = c + 1\n",
    "word = c + 1\n",
    "print(word)"
   ]
  },
  {
   "cell_type": "markdown",
   "id": "fefe46bb",
   "metadata": {},
   "source": [
    "Write a program to check if a list is in ascending order or not"
   ]
  },
  {
   "cell_type": "code",
   "execution_count": 57,
   "id": "690f724c",
   "metadata": {},
   "outputs": [
    {
     "name": "stdout",
     "output_type": "stream",
     "text": [
      "not sorted\n"
     ]
    }
   ],
   "source": [
    "l = [56,78,3,456,7,32,35,32255,677,8]\n",
    "f = 0\n",
    "for i in range(0,len(l)-1):\n",
    "    if l[i]>=l[i+1]:\n",
    "     f = 1\n",
    "     break\n",
    "if f == 0:\n",
    "    print(\"sorted\")\n",
    "else:\n",
    "    print(\"not sorted\")\n",
    "    "
   ]
  },
  {
   "cell_type": "code",
   "execution_count": 58,
   "id": "335ee2ec",
   "metadata": {},
   "outputs": [
    {
     "name": "stdout",
     "output_type": "stream",
     "text": [
      "sorted\n"
     ]
    }
   ],
   "source": [
    "l = [1,2,3,4,5,6,7,8]\n",
    "f = 0\n",
    "for i in range(0,len(l)-1):\n",
    "    if l[i]>=l[i+1]:\n",
    "        f = 1\n",
    "        break\n",
    "if f == 0:\n",
    "    print(\"sorted\")\n",
    "else:\n",
    "    print(\"not sorted\")"
   ]
  },
  {
   "cell_type": "code",
   "execution_count": 59,
   "id": "99af1e97",
   "metadata": {},
   "outputs": [
    {
     "name": "stdout",
     "output_type": "stream",
     "text": [
      "not sorted\n"
     ]
    }
   ],
   "source": [
    "l = [5,6,7,3,2,35]\n",
    "f = 0\n",
    "for i in range(0,len(l)-1):\n",
    "    if l[i]>=l[i+1]:\n",
    "        f = 1\n",
    "        break\n",
    "if f == 0:\n",
    "    print(\"sorted\")\n",
    "else:\n",
    "    print(\"not sorted\")"
   ]
  },
  {
   "cell_type": "markdown",
   "id": "73780623",
   "metadata": {},
   "source": [
    "Create 2 lists from a given list where 1st list will contain all the odd \n",
    "numbers from the original list and the 2nd one will contain all the even \n",
    "numbers"
   ]
  },
  {
   "cell_type": "code",
   "execution_count": 60,
   "id": "91f91dae",
   "metadata": {},
   "outputs": [
    {
     "name": "stdout",
     "output_type": "stream",
     "text": [
      "[2, 4, 6, 8]\n",
      "[3, 5, 7, 9]\n"
     ]
    }
   ],
   "source": [
    "l = [2,3,4,5,6,7,8,9]\n",
    "l1 = []\n",
    "l2 = []\n",
    "for i in l:\n",
    "    if i%2 == 0:\n",
    "        l1.append(i)\n",
    "    if i%2 !=0:\n",
    "        l2.append(i)\n",
    "print(l1)\n",
    "print(l2)"
   ]
  },
  {
   "cell_type": "markdown",
   "id": "9d74149a",
   "metadata": {},
   "source": [
    "Write a program to merge 2 list without using the + operato"
   ]
  },
  {
   "cell_type": "code",
   "execution_count": 61,
   "id": "d5c8f423",
   "metadata": {},
   "outputs": [
    {
     "name": "stdout",
     "output_type": "stream",
     "text": [
      "[1, 2, 3, 4, 5, 6, 7, 8, 9]\n"
     ]
    }
   ],
   "source": [
    "l1 = [1,2,3,4,5]\n",
    "l2 = [6,7,8,9]\n",
    "l = l1 + l2\n",
    "print(l)"
   ]
  },
  {
   "cell_type": "code",
   "execution_count": 63,
   "id": "e82509d3",
   "metadata": {},
   "outputs": [
    {
     "name": "stdout",
     "output_type": "stream",
     "text": [
      "[1, 2, 3, 4, 5, 6, 7, 8, 9]\n"
     ]
    }
   ],
   "source": [
    "l1 = [1,2,3,4,5]\n",
    "l2 = [6,7,8,9]\n",
    "l = []\n",
    "for i in l1:\n",
    "    l.append(i)\n",
    "for j in l2:\n",
    "    l.append(j)\n",
    "print(l)"
   ]
  },
  {
   "cell_type": "markdown",
   "id": "5bfb18fc",
   "metadata": {},
   "source": [
    "Write a program to replace an item with a different item if found in the \n",
    "list"
   ]
  },
  {
   "cell_type": "code",
   "execution_count": 67,
   "id": "dbe9fe05",
   "metadata": {},
   "outputs": [
    {
     "name": "stdout",
     "output_type": "stream",
     "text": [
      "enter the number: 0\n",
      "enter the number: 9\n",
      "not found\n"
     ]
    }
   ],
   "source": [
    "l = [1, 2, 3, 4, 5, 6, 7, 8, 9]\n",
    "f = int(input(\"enter the number: \"))\n",
    "r = int(input(\"enter the number: \"))\n",
    "for i in range(0,len(l)-1):\n",
    "    if f == l[i]:\n",
    "        l[i] = r\n",
    "        print(l)\n",
    "        break \n",
    "else:\n",
    "    print(\"not found\")"
   ]
  },
  {
   "cell_type": "markdown",
   "id": "307e6405",
   "metadata": {},
   "source": [
    "Write a program that can convert a 2D list to 1D list"
   ]
  },
  {
   "cell_type": "code",
   "execution_count": 1,
   "id": "e7b5986e",
   "metadata": {},
   "outputs": [
    {
     "name": "stdout",
     "output_type": "stream",
     "text": [
      "[1, 2, 3, 4, 5, 6, 34, 5, 63, 54, 33]\n"
     ]
    }
   ],
   "source": [
    "l = [1,2,3,4,5,6,[34,5,63,54,33]]\n",
    "l1 = []\n",
    "for i in l:\n",
    "    if type(i)==list:\n",
    "        l1.extend(i)\n",
    "    else:\n",
    "        l1.append(i)\n",
    "    \n",
    "print(l1)"
   ]
  },
  {
   "cell_type": "markdown",
   "id": "7d97c507",
   "metadata": {},
   "source": [
    "Write a program that can perform union and intersection on 2 given list."
   ]
  },
  {
   "cell_type": "code",
   "execution_count": 6,
   "id": "6a90a68f",
   "metadata": {},
   "outputs": [
    {
     "name": "stdout",
     "output_type": "stream",
     "text": [
      "union is:  [1, 2, 3, 4, 5, 6, 7, 8, 9, 10]\n",
      "intersection:  [4, 5, 6]\n"
     ]
    }
   ],
   "source": [
    "l1 = [1,2,3,4,5,6]\n",
    "l2 = [4,5,6,7,8,9,10]\n",
    "u = []\n",
    "inte = []\n",
    "for i in l1:\n",
    "    if i not in u:\n",
    "        u.append(i)\n",
    "for j in l2:\n",
    "    if j not in u:\n",
    "        u.append(j)\n",
    "for k in l1:\n",
    "    if k in l2:\n",
    "        inte.append(k)\n",
    "print(\"union is: \",u)\n",
    "print(\"intersection: \",inte)"
   ]
  },
  {
   "cell_type": "markdown",
   "id": "25bf3dcd",
   "metadata": {},
   "source": [
    "Write a program that can print the max item of each row of a matrix."
   ]
  },
  {
   "cell_type": "code",
   "execution_count": 9,
   "id": "f3400073",
   "metadata": {},
   "outputs": [
    {
     "name": "stdout",
     "output_type": "stream",
     "text": [
      "3\n",
      "6\n",
      "9\n"
     ]
    }
   ],
   "source": [
    "m = [\n",
    "    [1,2,3],\n",
    "    [4,5,6],\n",
    "    [7,8,9]\n",
    "]\n",
    "for i in m:\n",
    "    max = i[0]\n",
    "    for j in i:\n",
    "        if j>max:\n",
    "         max = j\n",
    "    print(max)"
   ]
  },
  {
   "cell_type": "code",
   "execution_count": 16,
   "id": "44f05c4c",
   "metadata": {},
   "outputs": [
    {
     "name": "stdout",
     "output_type": "stream",
     "text": [
      "676\n",
      "676\n",
      "676\n"
     ]
    }
   ],
   "source": [
    "m =[[88,99,55],\n",
    "    [110,676,5],\n",
    "    [345,56,778]]\n",
    "for i in m:\n",
    "    if i[0]>max:\n",
    "        for j in i:\n",
    "           if j>max:\n",
    "            max = j\n",
    "    print(max)"
   ]
  },
  {
   "cell_type": "markdown",
   "id": "d248a350",
   "metadata": {},
   "source": [
    "Write a program that can convert an integer to string. "
   ]
  },
  {
   "cell_type": "code",
   "execution_count": 17,
   "id": "b49fb818",
   "metadata": {},
   "outputs": [
    {
     "name": "stdout",
     "output_type": "stream",
     "text": [
      "enter the number: 45\n",
      "45\n"
     ]
    }
   ],
   "source": [
    "n = int(input(\"enter the number: \"))\n",
    "print(str(n))"
   ]
  },
  {
   "cell_type": "markdown",
   "id": "d5228c33",
   "metadata": {},
   "source": [
    "Write a program to print the shape of a matrix."
   ]
  },
  {
   "cell_type": "markdown",
   "id": "b615bd83",
   "metadata": {},
   "source": [
    "matrix = [\n",
    "    [1,2,3,20],\n",
    "    [4,5,6,56],\n",
    "    [7,8,9,98],\n",
    "    [10,11,12,99]\n",
    "]"
   ]
  },
  {
   "cell_type": "code",
   "execution_count": 18,
   "id": "d7ab9652",
   "metadata": {},
   "outputs": [
    {
     "name": "stdout",
     "output_type": "stream",
     "text": [
      "shape of matrix is:  4 * 4\n"
     ]
    }
   ],
   "source": [
    "matrix = [\n",
    "    [1,2,3,20],\n",
    "    [4,5,6,56],\n",
    "    [7,8,9,98],\n",
    "    [10,11,12,99]\n",
    "]\n",
    "row = 0\n",
    "for i in matrix:\n",
    "    row = row + 1\n",
    "print(\"shape of matrix is: \",row,\"*\",len(i))"
   ]
  },
  {
   "cell_type": "markdown",
   "id": "ecd46083",
   "metadata": {},
   "source": [
    "Write a program that can check if you can perform matrix \n",
    "multiplication on 2 matrices"
   ]
  },
  {
   "cell_type": "code",
   "execution_count": 22,
   "id": "e2c6597a",
   "metadata": {},
   "outputs": [
    {
     "name": "stdout",
     "output_type": "stream",
     "text": [
      "m_1:  [1, 2, 3]\n",
      "m_1:  [4, 5, 6]\n",
      "m_1:  [7, 8, 9]\n",
      "row:  3\n",
      "column:  3\n",
      "m_2:  [1, 2, 3, 20]\n",
      "m_2:  [4, 5, 6, 56]\n",
      "m_2:  [7, 8, 9, 98]\n",
      "m_2:  [10, 11, 12, 99]\n",
      "row:  4\n",
      "col:  4\n",
      "multiplication not possible\n"
     ]
    }
   ],
   "source": [
    "m_1 = [\n",
    "    [1,2,3],\n",
    "    [4,5,6],\n",
    "    [7,8,9]\n",
    "]\n",
    "r_1=0\n",
    "for i in m_1:\n",
    "    r_1 = r_1+1\n",
    "    c_1 = len(i)\n",
    "    print(\"m_1: \",i)\n",
    "print(\"row: \",r_1)\n",
    "print(\"column: \",c_1)\n",
    "m_2 = [\n",
    "    [1,2,3,20],\n",
    "    [4,5,6,56],\n",
    "    [7,8,9,98],\n",
    "    [10,11,12,99]]\n",
    "r_2=0\n",
    "for j in m_2:\n",
    "    r_2 = r_2 + 1\n",
    "    c_2 = len(j)\n",
    "    print(\"m_2: \",j)\n",
    "print(\"row: \",r_2)\n",
    "print(\"col: \",c_2)\n",
    "if c_1 == r_2:\n",
    "    print(\"multiplication is possible\")\n",
    "else:\n",
    "    print(\"multiplication not possible\")"
   ]
  },
  {
   "cell_type": "markdown",
   "id": "d6a122be",
   "metadata": {},
   "source": [
    "Write a program to perform matrix multiplication on 2 matrices"
   ]
  },
  {
   "cell_type": "code",
   "execution_count": 2,
   "id": "2a7c8d01",
   "metadata": {},
   "outputs": [
    {
     "name": "stdout",
     "output_type": "stream",
     "text": [
      "[14, 32, 50]\n",
      "[32, 77, 122]\n",
      "[50, 122, 194]\n"
     ]
    }
   ],
   "source": [
    "a = [\n",
    "    [1,2,3],\n",
    "    [4,5,6],\n",
    "    [7,8,9]\n",
    "]\n",
    "\n",
    "\n",
    "    \n",
    "b = [\n",
    "    [1,2,3],\n",
    "    [4,5,6],\n",
    "    [7,8,9]]\n",
    "\n",
    "result =[[0,0,0],\n",
    "        [0,0,0],\n",
    "        [0,0,0]]\n",
    "\n",
    "for i in range(len(a)):\n",
    "    for j in range(len(b[0])):\n",
    "        for k in range(len(b)):\n",
    "            result[i][j] += a[i][k]*b[j][k]\n",
    "for i in result:\n",
    "    print(i)"
   ]
  },
  {
   "cell_type": "code",
   "execution_count": 16,
   "id": "7c0600e5",
   "metadata": {},
   "outputs": [
    {
     "name": "stdout",
     "output_type": "stream",
     "text": [
      "[109, 1360, 298]\n",
      "[310, 4644, 738]\n",
      "[748, 7635, 1611]\n"
     ]
    }
   ],
   "source": [
    "a = [[34,3,4],\n",
    "     [6,78,8],\n",
    "     [88,76,43]]\n",
    "b = [[2,3,8],\n",
    "    [34,56,9]\n",
    "     ,[7,8,9],\n",
    "     ]\n",
    "r = [[0,0,0],\n",
    "     [0,0,0],\n",
    "     [0,0,0],]\n",
    "for i in range(len(a)):\n",
    "     for j in range(len(b[0])):\n",
    "        for k in range(len(b)):\n",
    "         r[i][j] +=a[i][k]*b[j][k]\n",
    "for i in r:\n",
    "     print(i)"
   ]
  },
  {
   "cell_type": "markdown",
   "id": "f5c2be74",
   "metadata": {},
   "source": [
    "Write a program that can sort a given unsorted list. Dont use any built in \n",
    "function for sorting.\n"
   ]
  },
  {
   "cell_type": "code",
   "execution_count": 17,
   "id": "a3b8761c",
   "metadata": {},
   "outputs": [
    {
     "name": "stdout",
     "output_type": "stream",
     "text": [
      "[4, 6, 6, 7, 32, 45]\n"
     ]
    }
   ],
   "source": [
    "l = [6,7,45,6,32,4]\n",
    "for i in range(len(l)):\n",
    "    for j in range(0,len(l)-1):\n",
    "        if l[j]>l[j+1]:\n",
    "            temp = l[j]\n",
    "            l[j] = l[j+1]\n",
    "            l[j+1] = temp\n",
    "print(l)"
   ]
  },
  {
   "cell_type": "markdown",
   "id": "b63e552a",
   "metadata": {},
   "source": [
    "Write a program that can find the most used word in a bollywood song"
   ]
  },
  {
   "cell_type": "code",
   "execution_count": 19,
   "id": "ec580cda",
   "metadata": {},
   "outputs": [
    {
     "name": "stdout",
     "output_type": "stream",
     "text": [
      "enter your string: Hum Tere Bin Ab Reh Nahi Sakte Tere Bina Kya Wajood Mera Hum Tere Bin Ab Reh Nahi Sakte Tere Bina Kya Wajood Mera  Tujhse Juda Agar Ho Jayenge Toh Khud Se Hi Ho Jayenge Juda  Kyunki Tum Hi Ho Ab Tum Hi Ho Zindagi Ab Tum Hi Ho Chain Bhi Mera Dard Bhi Meri Aashiqui Ab Tum Hi Ho  Tera Mera Rishta Hai Kaisa Ik Pal Door Gawara Nahi Tere Liye Har Roj Hai Jeete Tujhko Diya Mera Waqt Sabhi  Koyi Lamha Mera Na Ho Tere Bina Har Saans Pe Naam Tera  Kyunki Tum Hi Ho Ab Tum Hi Ho Zindagi Ab Tum Hi Ho Chain Bhi Mera Dard Bhi Meri Aashiqui Ab Tum Hi Ho  Tumhi Ho Tumhi Ho  Tere Liye Hi Jiya Main Khud Ko Jo Yun De Diya Hai Teri Wafa Ne Mujhko Sambhala Saare Ghamon Ko Dil Se Nikala  Tere Sath Mera Hai Naseeb Juda Tujhe Paake Adhoora Na Raha Hmm..  Kyunki Tum Hi Ho Ab Tum Hi Ho Zindagi Ab Tum Hi Ho Chain Bhi Mera Dard Bhi Meri Aashiqui Ab Tum Hi Ho  Kyunki Tum Hi Ho Ab Tum Hi Ho Zindagi Ab Tum Hi Ho Chain Bhi Mera Dard Bhi Meri Aashiqui Ab Tum Hi Ho\n",
      "Ho\n",
      "204\n"
     ]
    }
   ],
   "source": [
    "string = input(\"enter your string: \")\n",
    "s = string.split()\n",
    "c = 0\n",
    "for i in s:\n",
    "    if len(i)>1:\n",
    "        c = c + 1\n",
    "print(i)\n",
    "print(c)"
   ]
  },
  {
   "cell_type": "markdown",
   "id": "59d723a6",
   "metadata": {},
   "source": [
    "Assume a list with numbers from 1 to 10 and then convert it into a \n",
    "dictionary where the key would be the numbers of the list and the \n",
    "values would be the square of those numbers"
   ]
  },
  {
   "cell_type": "code",
   "execution_count": 20,
   "id": "a8e8c598",
   "metadata": {},
   "outputs": [
    {
     "name": "stdout",
     "output_type": "stream",
     "text": [
      "{1: 1, 2: 4, 3: 9, 4: 16, 5: 25, 6: 36, 7: 49, 8: 64, 9: 81, 10: 100}\n"
     ]
    }
   ],
   "source": [
    "l = [1,2,3,4,5,6,7,8,9,10]\n",
    "d = {}\n",
    "for i in l:\n",
    "    d[i] = i**2\n",
    "print(d)"
   ]
  },
  {
   "cell_type": "markdown",
   "id": "6853ef4e",
   "metadata": {},
   "source": [
    "Write a program to merge two given dictionary"
   ]
  },
  {
   "cell_type": "code",
   "execution_count": 22,
   "id": "453c5df4",
   "metadata": {},
   "outputs": [
    {
     "name": "stdout",
     "output_type": "stream",
     "text": [
      "{'a': 1, 'b': 2, 'c': 3, 'd': 4}\n"
     ]
    }
   ],
   "source": [
    "d1 = {\"a\":1,\"b\":2}\n",
    "d2 = {\"c\":3,\"d\":4}\n",
    "d = {}\n",
    "for i in d1:\n",
    "    d[i] = d1[i]\n",
    "for j in d2:\n",
    "    d[j] = d2[j]\n",
    "print(d)"
   ]
  },
  {
   "cell_type": "code",
   "execution_count": 23,
   "id": "8a8c8c38",
   "metadata": {},
   "outputs": [
    {
     "name": "stdout",
     "output_type": "stream",
     "text": [
      "{'a': 1, 'b': 2, 'c': 3, 'd': 4}\n",
      "{'a': 1, 'b': 2, 'c': 3, 'd': 4}\n"
     ]
    }
   ],
   "source": [
    "d1 = {\"a\":1,\"b\":2}\n",
    "d2 = {\"c\":3,\"d\":4}\n",
    "print(d1 | d2)\n",
    "print({**d1,**d2})"
   ]
  },
  {
   "cell_type": "markdown",
   "id": "04a621d6",
   "metadata": {},
   "source": [
    "Write a program to swap the key value pair for max and min values\n",
    "Eg if the dict is like this {‘a’:1,’b’:2,’c’:3}\n",
    "Output should be {a:3,b:2,c:1}"
   ]
  },
  {
   "cell_type": "code",
   "execution_count": 28,
   "id": "badaee08",
   "metadata": {},
   "outputs": [
    {
     "name": "stdout",
     "output_type": "stream",
     "text": [
      "400\n",
      "100\n",
      "{'a': 400, 'b': 200, 'c': 300, 'd': 100}\n"
     ]
    }
   ],
   "source": [
    "d = {\"a\":100,\"b\":200,\"c\":300,\"d\":400}\n",
    "max_val=max(d.values())\n",
    "min_val=min(d.values())\n",
    "for i in d:\n",
    "    if d[i]==max_val:\n",
    "        print(d[i])\n",
    "        break\n",
    "for j in d:\n",
    "    if d[j]==min_val:\n",
    "        print(d[j])\n",
    "        break\n",
    "d[i] = min_val\n",
    "d[j] = max_val\n",
    "print(d)\n",
    "        "
   ]
  },
  {
   "cell_type": "markdown",
   "id": "d3d0573a",
   "metadata": {},
   "source": [
    "Write a program to find histogram of a given set of numbers. Take bin \n",
    "size from user. Print the result in the form of a dictionary"
   ]
  },
  {
   "cell_type": "code",
   "execution_count": null,
   "id": "4fe387a0",
   "metadata": {},
   "outputs": [],
   "source": []
  },
  {
   "cell_type": "markdown",
   "id": "4dcc9c44",
   "metadata": {},
   "source": [
    "Write a function that accepts a string and returns the number of upper \n",
    "case chars and lower case chars as a dictionary"
   ]
  },
  {
   "cell_type": "code",
   "execution_count": 7,
   "id": "f4552460",
   "metadata": {},
   "outputs": [
    {
     "name": "stdout",
     "output_type": "stream",
     "text": [
      "enter your string: The Quick Brown Fox Jumps Over The Lazy Dog\n",
      "9\n",
      "26\n"
     ]
    }
   ],
   "source": [
    "s = input(\"enter your string: \")\n",
    "u_s = 0\n",
    "l_s = 0\n",
    "for i in s:\n",
    "    if (i.isupper()):\n",
    "        u_s = u_s + 1\n",
    "    elif (i.islower()):\n",
    "        l_s = l_s + 1\n",
    "print(u_s)\n",
    "print(l_s)"
   ]
  },
  {
   "cell_type": "markdown",
   "id": "447ea440",
   "metadata": {},
   "source": [
    "Write a function that accepts a list of strings and performs Bag of words \n",
    "and convert it to numerical vectors.\n",
    "https://en.wikipedia.org/wiki/Bag-of-words_model\n"
   ]
  },
  {
   "cell_type": "code",
   "execution_count": 8,
   "id": "c7f9054b",
   "metadata": {},
   "outputs": [
    {
     "data": {
      "text/plain": [
       "[[0, 0, 0, 0, 0, 1, 0, 0, 0, 0, 0, 1, 1, 1, 0],\n",
       " [0, 0, 0, 1, 0, 1, 0, 0, 0, 0, 0, 1, 1, 0, 1],\n",
       " [0, 0, 1, 0, 0, 0, 0, 0, 0, 1, 0, 1, 1, 0, 0],\n",
       " [1, 1, 0, 0, 0, 0, 1, 1, 1, 0, 0, 0, 0, 0, 1],\n",
       " [0, 1, 0, 0, 1, 0, 0, 0, 0, 0, 1, 1, 1, 0, 0]]"
      ]
     },
     "execution_count": 8,
     "metadata": {},
     "output_type": "execute_result"
    }
   ],
   "source": [
    "def bow(sentences):\n",
    "    vocab = []\n",
    "    for i in sentences:\n",
    "        vocab.extend(i.split())\n",
    "    \n",
    "    vocab = list(set(vocab))\n",
    "    \n",
    "    vector2d = []\n",
    "    for sentence in sentences:\n",
    "        vector = []\n",
    "        \n",
    "        for word in vocab:\n",
    "            vector.append(sentence.count(word))\n",
    "        vector2d.append(vector)\n",
    "    return vector2d\n",
    "sentences = [\"hello how are you\",\n",
    "             \"hello what are you doing\",\n",
    "             \"where are you now\",\n",
    "             \"what is plan for today\",\n",
    "             \"are you ready to travel\"\n",
    "    \n",
    "]\n",
    "bow(sentences)"
   ]
  },
  {
   "cell_type": "markdown",
   "id": "a6226ce6",
   "metadata": {},
   "source": [
    "Write a dummy program that can perform login and registration using \n",
    "a menu driven program"
   ]
  },
  {
   "cell_type": "code",
   "execution_count": 2,
   "id": "33347823",
   "metadata": {},
   "outputs": [
    {
     "name": "stdout",
     "output_type": "stream",
     "text": [
      "\n",
      "    1.enter 1 to register\n",
      "    2.enter 2 to login\n",
      "    3.enter 3 to exit\n",
      "    1\n",
      "enter your name: aditya sartape\n",
      "enter your email: ad44@gmail.com\n",
      "enter your password: 12345678\n",
      "registration succesful\n",
      "\n",
      "\n",
      "    1.enter 1 to register\n",
      "    2.enter 2 to login\n",
      "    3.enter 3 to exit\n",
      "    3\n",
      "bye\n"
     ]
    }
   ],
   "source": [
    "database = {}\n",
    "\n",
    "def user_menu():\n",
    "    user_input = input('''\n",
    "    1.enter 1 to register\n",
    "    2.enter 2 to login\n",
    "    3.enter 3 to exit\n",
    "    ''')\n",
    "    if user_input == \"1\":\n",
    "        register()\n",
    "    elif user_input == \"2\":\n",
    "        login()\n",
    "    else:\n",
    "        print(\"bye\")\n",
    "def register():\n",
    "    name = input(\"enter your name: \")\n",
    "    email = input(\"enter your email: \")\n",
    "    password = input(\"enter your password: \")\n",
    "    database[email] = [name,password]\n",
    "    print(\"registration succesful\")\n",
    "    print()\n",
    "    user_menu()\n",
    "def log_in():\n",
    "    email = input(\"enter your email: \")\n",
    "    password = input(\"enter your password: \")\n",
    "    flag = 0\n",
    "    \n",
    "    for i in database:\n",
    "        if email == i:\n",
    "            flag = 1\n",
    "            if password == database[i][1]:\n",
    "                print(\"welcome\")\n",
    "            else:\n",
    "                print(\"incorrect credentials\")\n",
    "    if flag == 0:\n",
    "        print(\"email not found\")\n",
    "user_menu()\n",
    "            "
   ]
  },
  {
   "cell_type": "markdown",
   "id": "8621d702",
   "metadata": {},
   "source": [
    "Write a program that accepts neighbors(set of 2D co-ordinates) and a \n",
    "point(single 2D co-ordinate) and tells nearest neighbor(in terms of \n",
    "euclidean distance)\n"
   ]
  },
  {
   "cell_type": "code",
   "execution_count": null,
   "id": "b5909b7a",
   "metadata": {},
   "outputs": [],
   "source": []
  },
  {
   "cell_type": "markdown",
   "id": "4cef7538",
   "metadata": {},
   "source": [
    "Write a function that accepts a number and returns it’s factorial. You \n",
    "can not use any loop"
   ]
  },
  {
   "cell_type": "code",
   "execution_count": 3,
   "id": "8f438b97",
   "metadata": {},
   "outputs": [
    {
     "data": {
      "text/plain": [
       "720"
      ]
     },
     "execution_count": 3,
     "metadata": {},
     "output_type": "execute_result"
    }
   ],
   "source": [
    "def fact(number):\n",
    "    if number == 1:\n",
    "        return 1\n",
    "    else:\n",
    "        return number*fact(number-1)\n",
    "fact(6)"
   ]
  },
  {
   "cell_type": "markdown",
   "id": "d0b6782f",
   "metadata": {},
   "source": [
    "WAP to find characters in the string without using buildin function"
   ]
  },
  {
   "cell_type": "code",
   "execution_count": 5,
   "id": "f79ff878",
   "metadata": {},
   "outputs": [
    {
     "name": "stdout",
     "output_type": "stream",
     "text": [
      "enter your string: the quick brown fox jumps over the lazy dog\n",
      "9\n"
     ]
    }
   ],
   "source": [
    "s = input(\"enter your string: \")\n",
    "w = s.split()\n",
    "c = 0\n",
    "for i in w:\n",
    "    c = c + 1\n",
    "print(c)"
   ]
  },
  {
   "cell_type": "markdown",
   "id": "5548be07",
   "metadata": {},
   "source": [
    "WAP to find length of the list and find the product of length will all elements and get the roundof summation"
   ]
  },
  {
   "cell_type": "code",
   "execution_count": 7,
   "id": "e6cbbeb2",
   "metadata": {},
   "outputs": [
    {
     "name": "stdout",
     "output_type": "stream",
     "text": [
      "237.24\n"
     ]
    }
   ],
   "source": [
    "l=[22.4, 4.0, -16.22, -9.1, 11.0, -12.22, 14.2, -5.2, 17.5]\n",
    "c=0\n",
    "for i in l:\n",
    "    i = i*len(l)\n",
    "    c = c + i\n",
    "print(c)"
   ]
  },
  {
   "cell_type": "markdown",
   "id": "165127f4",
   "metadata": {},
   "source": [
    "WAP to count the number of sublists that contain a particular element."
   ]
  },
  {
   "cell_type": "code",
   "execution_count": 11,
   "id": "e7f0cd69",
   "metadata": {},
   "outputs": [
    {
     "name": "stdout",
     "output_type": "stream",
     "text": [
      "enter the number: 7\n",
      "2\n"
     ]
    }
   ],
   "source": [
    "l=[[1, 3], [5, 7], [1, 11], [1, 15, 7]]\n",
    "n = int(input(\"enter the number: \"))\n",
    "c = 0\n",
    "for i in l:\n",
    "    for j in i:\n",
    "        if n == j:\n",
    "            c = c + 1\n",
    "print(c)"
   ]
  },
  {
   "cell_type": "code",
   "execution_count": 6,
   "id": "9a7b13d4",
   "metadata": {},
   "outputs": [
    {
     "name": "stdout",
     "output_type": "stream",
     "text": [
      "1\n",
      "3\n",
      "5\n",
      "7\n",
      "1\n",
      "11\n",
      "1\n",
      "15\n",
      "7\n"
     ]
    }
   ],
   "source": [
    "l=[[1, 3], [5, 7], [1, 11], [1, 15, 7]]\n",
    "c = 0\n",
    "for i in l:\n",
    "    for j in i:\n",
    "        print(j)\n",
    "        "
   ]
  },
  {
   "cell_type": "markdown",
   "id": "14280d35",
   "metadata": {},
   "source": [
    "WAP to convert list into integer"
   ]
  },
  {
   "cell_type": "code",
   "execution_count": 8,
   "id": "d3bf3c10",
   "metadata": {},
   "outputs": [
    {
     "name": "stdout",
     "output_type": "stream",
     "text": [
      "[22, 4, -16, -9, 11, -12, 14, -5, 17]\n"
     ]
    }
   ],
   "source": [
    "res= [22.4, 4.0, -16.22, -9.1, 11.0, -12.22, 14.2, -5.2, 17.5]\n",
    "l = []\n",
    "for i in res:\n",
    "    l.append(int(i))\n",
    "print(l)"
   ]
  },
  {
   "cell_type": "markdown",
   "id": "4d9bc828",
   "metadata": {},
   "source": [
    "WAP to seperate the string and interger from the given list"
   ]
  },
  {
   "cell_type": "code",
   "execution_count": 10,
   "id": "f877d601",
   "metadata": {},
   "outputs": [
    {
     "name": "stdout",
     "output_type": "stream",
     "text": [
      "['abcd', 'xyz', 'pqr']\n",
      "[1, 3, 4, 5, 7, -5]\n"
     ]
    }
   ],
   "source": [
    "p=[1, 'abcd', 3, 1.2, 4, 'xyz', 5, 'pqr', 7, -5, -12.22]\n",
    "string = []\n",
    "integer = []\n",
    "for i in p:\n",
    "    if type(i)==str:\n",
    "        string.append(i)\n",
    "    if type(i)==int:\n",
    "        integer.append(i)\n",
    "print(string)\n",
    "print(integer)\n",
    "        "
   ]
  },
  {
   "cell_type": "markdown",
   "id": "016d1e0d",
   "metadata": {},
   "source": [
    "WAP to convert given list into single list"
   ]
  },
  {
   "cell_type": "code",
   "execution_count": 13,
   "id": "8d011675",
   "metadata": {},
   "outputs": [
    {
     "name": "stdout",
     "output_type": "stream",
     "text": [
      "[0, 10, 20, 30, 40, 50, 60, 70, 80, 90, 100, 110, 120]\n"
     ]
    }
   ],
   "source": [
    "res= [0, 10, [20, 30], 40, 50, [60, 70, 80], [90, 100, 110, 120]]\n",
    "l = []\n",
    "for i in res:\n",
    "    if type(i)==list:\n",
    "        l.extend(i)\n",
    "    else:\n",
    "        l.append(i)\n",
    "print(l)"
   ]
  },
  {
   "cell_type": "markdown",
   "id": "3ee41848",
   "metadata": {},
   "source": [
    " WAP to select invalid statement"
   ]
  },
  {
   "cell_type": "code",
   "execution_count": 14,
   "id": "8ec67aa6",
   "metadata": {},
   "outputs": [
    {
     "name": "stdout",
     "output_type": "stream",
     "text": [
      "123\n"
     ]
    }
   ],
   "source": [
    "abc=123\n",
    "a=b=c=456\n",
    "abc=123\n",
    "a_b_c=123\n",
    "print(abc)"
   ]
  },
  {
   "cell_type": "markdown",
   "id": "f2202d70",
   "metadata": {},
   "source": [
    "WAP to add 5 to the every element in the list"
   ]
  },
  {
   "cell_type": "code",
   "execution_count": 16,
   "id": "b62c1056",
   "metadata": {},
   "outputs": [
    {
     "name": "stdout",
     "output_type": "stream",
     "text": [
      "[27.4, 9.0, 21.22, 14.1, 16.0, 17.22, 19.2, 10.2, 22.5]\n"
     ]
    }
   ],
   "source": [
    "res=[22.4, 4.0, 16.22, 9.1, 11.0, 12.22, 14.2, 5.2, 17.5]\n",
    "for i in range(len(res)):\n",
    "    res[i] = res[i] + 5\n",
    "print(res)"
   ]
  },
  {
   "cell_type": "markdown",
   "id": "6415a429",
   "metadata": {},
   "source": [
    "WAP to get unique elements from the given list"
   ]
  },
  {
   "cell_type": "code",
   "execution_count": 18,
   "id": "3fd593e9",
   "metadata": {},
   "outputs": [
    {
     "name": "stdout",
     "output_type": "stream",
     "text": [
      "[1, 2, 3, 5, 2, 3, 5, 4, 0, 5, 4, 1, 3, 7, 2, 1, 1, 2, 1, 2]\n",
      "[1, 2, 3, 5, 4, 0, 7]\n"
     ]
    }
   ],
   "source": [
    "res=[[1, 2, 3, 5], [2, 3, 5, 4], [0, 5, 4, 1], [3, 7, 2, 1], [1, 2, 1, 2]]\n",
    "l = []\n",
    "for i in res:\n",
    "    if type(i)==list:\n",
    "        l.extend(i)\n",
    "    else:\n",
    "        l.append(i)\n",
    "print(l)\n",
    "l2 = []\n",
    "for j in l:\n",
    "    if j not in l2:\n",
    "        l2.append(j)\n",
    "print(l2)"
   ]
  },
  {
   "cell_type": "code",
   "execution_count": 19,
   "id": "4427f5c7",
   "metadata": {},
   "outputs": [
    {
     "name": "stdout",
     "output_type": "stream",
     "text": [
      "{0, 1, 2, 3, 4, 5, 7}\n"
     ]
    }
   ],
   "source": [
    "res=[[1, 2, 3, 5], [2, 3, 5, 4], [0, 5, 4, 1], [3, 7, 2, 1], [1, 2, 1, 2]]\n",
    "l = []\n",
    "for i in res:\n",
    "    if type(i)==list:\n",
    "        l.extend(i)\n",
    "    else:\n",
    "        l.append(i)\n",
    "L = set(l)\n",
    "print(L)"
   ]
  },
  {
   "cell_type": "markdown",
   "id": "bb2db725",
   "metadata": {},
   "source": [
    " WAP to find the difference between two list"
   ]
  },
  {
   "cell_type": "code",
   "execution_count": 22,
   "id": "27572386",
   "metadata": {},
   "outputs": [
    {
     "name": "stdout",
     "output_type": "stream",
     "text": [
      "[1, 3, 5, 7, 9, 10]\n"
     ]
    }
   ],
   "source": [
    "l1= [1, 2, 3, 4, 5, 6, 7, 8, 9, 10]\n",
    "l2=[2, 4, 6, 8]\n",
    "p = set(l1)-set(l2)\n",
    "print(list(p))"
   ]
  },
  {
   "cell_type": "markdown",
   "id": "5d954f60",
   "metadata": {},
   "source": [
    "WAP to find the cumulative sum of the given list"
   ]
  },
  {
   "cell_type": "code",
   "execution_count": 23,
   "id": "f3084eba",
   "metadata": {},
   "outputs": [
    {
     "name": "stdout",
     "output_type": "stream",
     "text": [
      "[22, 26, 10, 1, 12, 0, 14, 9, 26]\n"
     ]
    }
   ],
   "source": [
    "l=[22, 4, -16, -9, 11, -12, 14, -5, 17]\n",
    "l2 = []\n",
    "c = 0\n",
    "for i in range(len(l)):\n",
    "    c = c + l[i]\n",
    "    l2.append(c)\n",
    "print(l2)\n",
    "    "
   ]
  },
  {
   "cell_type": "markdown",
   "id": "2aa24e57",
   "metadata": {},
   "source": [
    "##Return the \"centered\" average of an array of ints, which we'll say is the mean average of the values, except ignoring the\n",
    "##largest and smallest values in the array. If there are multiple copies of the smallest value,\n",
    "##ignore just one copy, and likewise for the largest value. Use int division to produce the final average.\n",
    "##You may assume that the array is length 3 or more.\n",
    "##centered_average([1, 2, 3, 4, 100]) → 3\n",
    "##centered_average([1, 1, 5, 5, 10, 8, 7]) → 5\n",
    "##centered_average([-10, -4, -2, -4, -2, 0])"
   ]
  },
  {
   "cell_type": "code",
   "execution_count": 25,
   "id": "7854cdf3",
   "metadata": {},
   "outputs": [
    {
     "data": {
      "text/plain": [
       "3.0"
      ]
     },
     "execution_count": 25,
     "metadata": {},
     "output_type": "execute_result"
    }
   ],
   "source": [
    "def centered_avg(l):\n",
    "    a = max(l)\n",
    "    b = min(l)\n",
    "    l.remove(a)\n",
    "    l.remove(b)\n",
    "    c = 0\n",
    "    s = 0\n",
    "    for i in l:\n",
    "        c = c + i\n",
    "        s = s +1\n",
    "    centered_avg = c/s\n",
    "    return centered_avg\n",
    "\n",
    "centered_avg([1, 2, 3, 4, 100])\n",
    "    "
   ]
  },
  {
   "cell_type": "markdown",
   "id": "b56a549e",
   "metadata": {},
   "source": [
    "##Return the sum of the numbers in the array, except ignore sections of numbers starting with a 6 and extending to the next 7\n",
    "##(every 6 will be followed by at least one 7). Return 0 for no numbers.\n",
    "##\n",
    "##\n",
    "##sum67([1, 2, 2]) → 5\n",
    "##sum67([1, 2, 2, 6, 99, 99, 7]) → 5\n",
    "##sum67([1, 1, 6, 7, 2]) → 4"
   ]
  },
  {
   "cell_type": "code",
   "execution_count": 28,
   "id": "d0ca200b",
   "metadata": {},
   "outputs": [
    {
     "name": "stdout",
     "output_type": "stream",
     "text": [
      "5\n"
     ]
    }
   ],
   "source": [
    "def sum_l(l):\n",
    "    s = 0\n",
    "    a = l.index(6,0)\n",
    "    b = l.index(7,0)\n",
    "    del l[a:b+1]\n",
    "    for i in l:\n",
    "        s = s + i\n",
    "    return s\n",
    "print(sum_l([1, 2, 2, 6, 99, 99, 7]))"
   ]
  },
  {
   "cell_type": "markdown",
   "id": "15b838e2",
   "metadata": {},
   "source": [
    " WAP to get aplhabets from the given string"
   ]
  },
  {
   "cell_type": "code",
   "execution_count": 32,
   "id": "9cfd1689",
   "metadata": {},
   "outputs": [
    {
     "name": "stdout",
     "output_type": "stream",
     "text": [
      "ABCD\n"
     ]
    }
   ],
   "source": [
    "s=\" A%^!B#*CD\"\n",
    "c = ''\n",
    "for i in s:\n",
    "    if i.isalpha():\n",
    "        c = c + i\n",
    "print(c)"
   ]
  },
  {
   "cell_type": "markdown",
   "id": "00384137",
   "metadata": {},
   "source": [
    "Without using builtin function find len of the string"
   ]
  },
  {
   "cell_type": "code",
   "execution_count": 33,
   "id": "a414ab8c",
   "metadata": {},
   "outputs": [
    {
     "name": "stdout",
     "output_type": "stream",
     "text": [
      "22\n"
     ]
    }
   ],
   "source": [
    "s = \"hey aditya how are you\"\n",
    "c = 0\n",
    "for i in s:\n",
    "    c = c + 1\n",
    "print(c)"
   ]
  },
  {
   "cell_type": "markdown",
   "id": "75fad432",
   "metadata": {},
   "source": [
    "From the given string vowel have to be converted into upper and remaining element should be lower"
   ]
  },
  {
   "cell_type": "code",
   "execution_count": 37,
   "id": "65c13000",
   "metadata": {},
   "outputs": [
    {
     "name": "stdout",
     "output_type": "stream",
     "text": [
      "thE dOg Is bArkIng\n"
     ]
    }
   ],
   "source": [
    "s=\"the dog is barking\"\n",
    "s1=\"\"\n",
    "o = \"iaeouIAEOU\"\n",
    "for i in s:\n",
    "    if i in o:\n",
    "        s1 = s1 + i.upper()\n",
    "    else:\n",
    "        s1 = s1 + i.lower()\n",
    "print(s1)"
   ]
  },
  {
   "cell_type": "markdown",
   "id": "3d083775",
   "metadata": {},
   "source": [
    "reverse the string wiyhout using builtin funtion"
   ]
  },
  {
   "cell_type": "code",
   "execution_count": 38,
   "id": "4afb2feb",
   "metadata": {},
   "outputs": [
    {
     "data": {
      "text/plain": [
       "[50, 40, 30, 20, 10]"
      ]
     },
     "execution_count": 38,
     "metadata": {},
     "output_type": "execute_result"
    }
   ],
   "source": [
    "p=[10,20,30,40,50]\n",
    "p[::-1]"
   ]
  },
  {
   "cell_type": "markdown",
   "id": "13929e42",
   "metadata": {},
   "source": [
    "move 0 to the right side of the string and remaing numbers to the left of the string then add them using indexing"
   ]
  },
  {
   "cell_type": "code",
   "execution_count": 40,
   "id": "0355b22d",
   "metadata": {},
   "outputs": [
    {
     "name": "stdout",
     "output_type": "stream",
     "text": [
      "[3, 4, 8, 9, 5, 4, 8, 2, 1, 0, 0, 0, 0, 0, 0, 0, 0, 0]\n"
     ]
    }
   ],
   "source": [
    "L=[3,4,0,0,8,0,9,5,0,4,8,0,0,2,0,1,0,0]\n",
    "a = []\n",
    "b = []\n",
    "for i in L:\n",
    "    if i == 0:\n",
    "        a.append(i)\n",
    "    else:\n",
    "        b.append(i)\n",
    "c = b + a\n",
    "print(c)"
   ]
  },
  {
   "cell_type": "markdown",
   "id": "6efefcc1",
   "metadata": {},
   "source": [
    "remove repeated numbers from given list"
   ]
  },
  {
   "cell_type": "code",
   "execution_count": 41,
   "id": "ef8241a6",
   "metadata": {},
   "outputs": [
    {
     "name": "stdout",
     "output_type": "stream",
     "text": [
      "[0, 1, 2, 3, 4, 5, 6, 7]\n"
     ]
    }
   ],
   "source": [
    "p=[0,0,1,2,3,4,5,3,4,6,7,3,5]\n",
    "print(list(set(p)))"
   ]
  },
  {
   "cell_type": "code",
   "execution_count": 46,
   "id": "19a71118",
   "metadata": {},
   "outputs": [
    {
     "name": "stdout",
     "output_type": "stream",
     "text": [
      "[0, 1, 2, 3, 4, 5, 6, 7]\n"
     ]
    }
   ],
   "source": [
    "p=[0,0,1,2,3,4,5,3,4,6,7,3,5]\n",
    "l = []\n",
    "for i in p:\n",
    "    if i not in l:\n",
    "        l.append(i)\n",
    "print(l)"
   ]
  },
  {
   "cell_type": "markdown",
   "id": "66c75198",
   "metadata": {},
   "source": [
    "move str to the left side and digits to the right side"
   ]
  },
  {
   "cell_type": "code",
   "execution_count": 47,
   "id": "1fcfc86a",
   "metadata": {},
   "outputs": [
    {
     "name": "stdout",
     "output_type": "stream",
     "text": [
      "['abcd', 'xyz', 'pqr', 2, 3, 1.2, 4, 5, 7, -5, -12.22]\n"
     ]
    }
   ],
   "source": [
    "res=[2,'abcd',3,1.2,4,'xyz',5,'pqr',7,-5,-12.22]\n",
    "a = []\n",
    "b = []\n",
    "for i in res:\n",
    "    if type(i)==str:\n",
    "        a.append(i)\n",
    "    else:\n",
    "        b.append(i)\n",
    "        c = a + b\n",
    "print(c)\n"
   ]
  },
  {
   "cell_type": "markdown",
   "id": "c1806cd0",
   "metadata": {},
   "source": [
    "WAP to create a sublist for each element in the given list"
   ]
  },
  {
   "cell_type": "code",
   "execution_count": 54,
   "id": "a92e2bc5",
   "metadata": {},
   "outputs": [
    {
     "name": "stdout",
     "output_type": "stream",
     "text": [
      "[[0, 0], [1], [2], [3], [4, 4], [5], [6, 6, 6], [7], [8], [9], [4, 4]]\n"
     ]
    }
   ],
   "source": [
    "L=[0,0,1,2,3,4,4,5,6,6,6,7,8,9,4,4]\n",
    "G=[]#c=Group\n",
    "CG=[]#CG=Current Group\n",
    "PE=0 #PE=Previous Element\n",
    "\n",
    "for i in L:\n",
    "    if i==PE:\n",
    "        CG.append(i)\n",
    "    else:\n",
    "        if CG:\n",
    "            G.append(CG)\n",
    "        CG=[i]\n",
    "    PE=i\n",
    "    \n",
    "if CG:\n",
    "    G.append(CG)\n",
    "\n",
    "output=G\n",
    "print(output)"
   ]
  },
  {
   "cell_type": "code",
   "execution_count": 1,
   "id": "2323f1fe",
   "metadata": {},
   "outputs": [
    {
     "name": "stdout",
     "output_type": "stream",
     "text": [
      "[[0, 0], [1], [2], [3], [4, 4], [5], [6, 6, 6], [7], [8], [9], [4, 4]]\n"
     ]
    }
   ],
   "source": [
    "L=[0,0,1,2,3,4,4,5,6,6,6,7,8,9,4,4]\n",
    "g = []\n",
    "cg = []\n",
    "pe = 0\n",
    "for i in L:\n",
    "    if i==pe:\n",
    "        cg.append(i)\n",
    "    else:\n",
    "        if cg:\n",
    "            g.append(cg)\n",
    "        cg = [i]\n",
    "    pe = i\n",
    "if cg:\n",
    "    g.append(cg)\n",
    "print(g)"
   ]
  },
  {
   "cell_type": "code",
   "execution_count": 4,
   "id": "a296c8e9",
   "metadata": {},
   "outputs": [
    {
     "name": "stdout",
     "output_type": "stream",
     "text": [
      "[[0, 0], [1], [2], [3], [4, 4], [5], [6, 6, 6], [7], [8], [9], [4, 4]]\n"
     ]
    }
   ],
   "source": [
    "l=[0,0,1,2,3,4,4,5,6,6,6,7,8,9,4,4]\n",
    "g = []\n",
    "cg = []\n",
    "pe = 0\n",
    "for i in l:\n",
    "    if i==pe:\n",
    "        cg.append(i)\n",
    "    else:\n",
    "        if cg:\n",
    "            g.append(cg)\n",
    "        cg = [i]\n",
    "    pe = i\n",
    "if cg:\n",
    "    g.append(cg)\n",
    "print(g)"
   ]
  },
  {
   "cell_type": "markdown",
   "id": "b0318025",
   "metadata": {},
   "source": [
    "#Return the number of times that the string \"code\" appears anywhere in the given string, except we'll accept any letter for the 'd', so \"cope\" and \"cooe\" count. \n",
    "#count_code='aaacodebbb' \n",
    "#count_code='codexxcode' \n",
    "#count_code='cozexxcope'"
   ]
  },
  {
   "cell_type": "code",
   "execution_count": 55,
   "id": "526eb8f5",
   "metadata": {},
   "outputs": [
    {
     "name": "stdout",
     "output_type": "stream",
     "text": [
      "2\n",
      "None\n"
     ]
    }
   ],
   "source": [
    "def count_code(s):\n",
    "    p='code'\n",
    "    current=''\n",
    "    count=0\n",
    "    L=[]\n",
    "    for i in s:\n",
    "        if i in p:\n",
    "            current+=i\n",
    "        else:\n",
    "            L.append(current)\n",
    "        current=''\n",
    "    for i in L:\n",
    "        if i==current:\n",
    "            count+=1\n",
    "    print(count)\n",
    "         \n",
    "print(count_code('codexxcode'))"
   ]
  },
  {
   "cell_type": "markdown",
   "id": "156ba150",
   "metadata": {},
   "source": [
    "#Return the number of times that the string \"hi\" appears anywhere in the given string. \n",
    "#count_hi='abc hi ho'\n",
    "#count_hi('ABChi hi') \n",
    "#count_hi('hihi') "
   ]
  },
  {
   "cell_type": "code",
   "execution_count": 49,
   "id": "b518f5c4",
   "metadata": {},
   "outputs": [
    {
     "data": {
      "text/plain": [
       "2"
      ]
     },
     "execution_count": 49,
     "metadata": {},
     "output_type": "execute_result"
    }
   ],
   "source": [
    "def count_hi(string):\n",
    "    return string.count(\"hi\")\n",
    "count_hi('ABChi hi')"
   ]
  },
  {
   "cell_type": "markdown",
   "id": "a17ad90b",
   "metadata": {},
   "source": [
    "#Return the number of times that the string \"code\" appears anywhere in the given string, except we'll accept any letter for the 'd', so \"cope\" and \"cooe\" count.  \n",
    "#count_code('aaacodebbb') → 1  \n",
    "#count_code('codexxcode') → 2  \n",
    "#count_code('cozexxcope') → 2"
   ]
  },
  {
   "cell_type": "code",
   "execution_count": 50,
   "id": "59eb03ec",
   "metadata": {},
   "outputs": [
    {
     "data": {
      "text/plain": [
       "1"
      ]
     },
     "execution_count": 50,
     "metadata": {},
     "output_type": "execute_result"
    }
   ],
   "source": [
    "def count_code(string):\n",
    "    return string.count(\"code\")\n",
    "count_code('aaacodebbb')\n"
   ]
  },
  {
   "cell_type": "markdown",
   "id": "b10d216b",
   "metadata": {},
   "source": [
    "#WAF to have said output double_char('The') → 'TThhee'\n",
    "#double_char('AAbb') → 'AAAAbbbb'\n",
    "#double_char('Hi-There') → 'HHii--TThheerree'''"
   ]
  },
  {
   "cell_type": "code",
   "execution_count": 51,
   "id": "10a586c6",
   "metadata": {},
   "outputs": [
    {
     "data": {
      "text/plain": [
       "'AAAAbbbb'"
      ]
     },
     "execution_count": 51,
     "metadata": {},
     "output_type": "execute_result"
    }
   ],
   "source": [
    "def double_char(string):\n",
    "    s1 = \"\"\n",
    "    for i in string:\n",
    "        s1 = s1 + i*2\n",
    "    return s1\n",
    "double_char('AAbb')"
   ]
  },
  {
   "cell_type": "markdown",
   "id": "b48f4873",
   "metadata": {},
   "source": [
    " Given a string and a non-negative int n, return a larger string that is n copies of the original string.\n",
    "\n",
    "\n",
    " string_times('Hi', 2) → 'HiHi'\n",
    " string_times('Hi', 3) → 'HiHiHi'\n",
    " string_times('Hi', 1) → 'Hi'"
   ]
  },
  {
   "cell_type": "code",
   "execution_count": 53,
   "id": "e1d411b9",
   "metadata": {},
   "outputs": [
    {
     "data": {
      "text/plain": [
       "'HiHiHi'"
      ]
     },
     "execution_count": 53,
     "metadata": {},
     "output_type": "execute_result"
    }
   ],
   "source": [
    "def c(array,n):\n",
    "    s = array * n\n",
    "    return s\n",
    "c('Hi', 3)"
   ]
  },
  {
   "cell_type": "markdown",
   "id": "310832af",
   "metadata": {},
   "source": [
    "Sorting list without using functions"
   ]
  },
  {
   "cell_type": "code",
   "execution_count": 56,
   "id": "643dbcd9",
   "metadata": {},
   "outputs": [
    {
     "name": "stdout",
     "output_type": "stream",
     "text": [
      "[4, 6, 6, 7, 32, 45]\n"
     ]
    }
   ],
   "source": [
    "l = [6,7,45,6,32,4]\n",
    "for i in range(len(l)):\n",
    "    for j in range(0,len(l)-1):\n",
    "        if l[j]>l[j+1]:\n",
    "            temp = l[j]\n",
    "            l[j] = l[j+1]\n",
    "            l[j+1] = temp\n",
    "print(l)"
   ]
  },
  {
   "cell_type": "markdown",
   "id": "f2b7381d",
   "metadata": {},
   "source": [
    " Given a list of integers, write a Python function that calculates the product of all the elements except the one at the current index\n",
    "\n",
    "input : [1, 2, 3, 4]\n",
    "output : [24, 12, 8, 6]"
   ]
  },
  {
   "cell_type": "code",
   "execution_count": 57,
   "id": "dd2c43b1",
   "metadata": {},
   "outputs": [],
   "source": [
    "#Write a Python function to determine the maximum profit that can be made during a week of trading with the given stock prices, \n",
    "#assuming that there are no restrictions on the number of transactions that can be made?\n",
    "\n",
    "#Input : price = [10, 6, 12, 5, 4, 2, 1]\n",
    "#Output : 6\n",
    "\n",
    "#Input : price = [1, 2, 5, 7, 4, 5, 3, 2, 1]\n",
    "#Output : 7"
   ]
  },
  {
   "cell_type": "code",
   "execution_count": 7,
   "id": "fe8dcb99",
   "metadata": {},
   "outputs": [
    {
     "name": "stdout",
     "output_type": "stream",
     "text": [
      "7\n"
     ]
    }
   ],
   "source": [
    "\n",
    "def maxProfit(price, start, end):\n",
    " \n",
    "    # If the stocks can't be bought\n",
    "    if (end <= start):\n",
    "        return 0;\n",
    " \n",
    "    # Initialise the profit\n",
    "    profit = 0;\n",
    " \n",
    "    # The day at which the stock\n",
    "    # must be bought\n",
    "    for i in range(start, end, 1):\n",
    " \n",
    "        # The day at which the\n",
    "        # stock must be sold\n",
    "        for j in range(i+1, end+1):\n",
    " \n",
    "            # If buying the stock at ith day and\n",
    "            # selling it at jth day is profitable\n",
    "            if (price[j] > price[i]):\n",
    "                 \n",
    "                # Update the current profit\n",
    "                curr_profit = price[j] - price[i] + maxProfit(price, start, i - 1)+ maxProfit(price,  j + 1, end);\n",
    " \n",
    "                # Update the maximum profit so far\n",
    "                profit = max(profit, curr_profit);\n",
    " \n",
    "    return profit;\n",
    " \n",
    "# Driver code\n",
    "if __name__ == '__main__':\n",
    "    price =  [1, 2, 5, 7, 4, 5, 3, 2, 1]\n",
    "    n = len(price);\n",
    "    print(maxProfit(price, 0, n - 1));"
   ]
  },
  {
   "cell_type": "markdown",
   "id": "30e95532",
   "metadata": {},
   "source": [
    "Suppose you need to collect and print data from IMDb (http://www.imdb.com/chart/) top 25 Movies page. \n",
    "Write a program in Python for doing so."
   ]
  },
  {
   "cell_type": "code",
   "execution_count": null,
   "id": "6637d472",
   "metadata": {},
   "outputs": [],
   "source": []
  },
  {
   "cell_type": "code",
   "execution_count": 58,
   "id": "579d6a9f",
   "metadata": {},
   "outputs": [],
   "source": [
    "#Write a Python program that rotates an array by two positions to the\n",
    "#right: list = [6, 86, 4, 86, 24, 75]\n",
    "#required list = [24, 75, 6, 86, 4, 86]\n"
   ]
  },
  {
   "cell_type": "code",
   "execution_count": 1,
   "id": "ecbc3bf4",
   "metadata": {},
   "outputs": [
    {
     "name": "stdout",
     "output_type": "stream",
     "text": [
      "[24, 75, 6, 86, 4, 86]\n"
     ]
    }
   ],
   "source": [
    "\n",
    "def rotate_array_by_two(l):\n",
    "    if len(l) <= 2:\n",
    "        return l\n",
    "    \n",
    "    rotated_list = l[-2:] + l[:-2]\n",
    "    return rotated_list\n",
    "\n",
    "# Input array\n",
    "original_list = [6, 86, 4, 86, 24, 75]\n",
    "\n",
    "# Rotate the array by two positions to the right\n",
    "rotated_list = rotate_array_by_two(original_list)\n",
    "\n",
    "# Print the rotated array\n",
    "print(rotated_list)\n",
    "\n",
    "\n",
    "\n",
    "\n",
    "\n",
    "\n",
    "    "
   ]
  },
  {
   "cell_type": "markdown",
   "id": "f887f8a0",
   "metadata": {},
   "source": [
    "Three unbiased coins are tossed. What is the probability of getting max of two heads?"
   ]
  },
  {
   "cell_type": "code",
   "execution_count": null,
   "id": "a912c886",
   "metadata": {},
   "outputs": [],
   "source": []
  },
  {
   "cell_type": "markdown",
   "id": "ad6a40bb",
   "metadata": {},
   "source": [
    "If there is 2 GB .text  file , how will you write python code for counting no. Of occurrences of each digit in that file?? Write script"
   ]
  },
  {
   "cell_type": "code",
   "execution_count": null,
   "id": "1a916f22",
   "metadata": {},
   "outputs": [],
   "source": []
  },
  {
   "cell_type": "markdown",
   "id": "81f6cbd5",
   "metadata": {},
   "source": [
    "Write code to get most frequent character and it's no. Of occurrence from any string."
   ]
  },
  {
   "cell_type": "code",
   "execution_count": null,
   "id": "57948c8c",
   "metadata": {},
   "outputs": [],
   "source": [
    "string = input(\"enter your string: \")\n",
    "s = string.split()\n",
    "c = 0\n",
    "for i in s:\n",
    "    if len(i)>1:\n",
    "        c = c + 1\n",
    "print(i)\n",
    "print(c)"
   ]
  },
  {
   "cell_type": "markdown",
   "id": "2eb7024f",
   "metadata": {},
   "source": [
    " Write code and explain hybrid inheritance and create objects ."
   ]
  },
  {
   "cell_type": "code",
   "execution_count": null,
   "id": "09776888",
   "metadata": {},
   "outputs": [],
   "source": []
  },
  {
   "cell_type": "markdown",
   "id": "138d34aa",
   "metadata": {},
   "source": [
    "Write code to get count of occurrence of substring from file using regular expression\n"
   ]
  },
  {
   "cell_type": "code",
   "execution_count": null,
   "id": "e9559b93",
   "metadata": {},
   "outputs": [],
   "source": []
  },
  {
   "cell_type": "markdown",
   "id": "b2fa643b",
   "metadata": {},
   "source": [
    "Input - 'aaaaabbbccdddeeeee' Output - 'a5b3d3e5'"
   ]
  },
  {
   "cell_type": "code",
   "execution_count": 1,
   "id": "0db4543b",
   "metadata": {},
   "outputs": [
    {
     "name": "stdout",
     "output_type": "stream",
     "text": [
      "a5b3c2d3e5\n"
     ]
    }
   ],
   "source": [
    "def compress_string(s):\n",
    "    if not s:\n",
    "        return \"\"\n",
    "\n",
    "    compressed_string = \"\"\n",
    "    current_char = s[0]\n",
    "    char_count = 1\n",
    "\n",
    "    for i in range(1, len(s)):\n",
    "        if s[i] == current_char:\n",
    "            char_count += 1\n",
    "        else:\n",
    "            compressed_string += current_char + str(char_count)\n",
    "            current_char = s[i]\n",
    "            char_count = 1\n",
    "\n",
    "    compressed_string += current_char + str(char_count)\n",
    "\n",
    "    return compressed_string\n",
    "\n",
    "input_str = 'aaaaabbbccdddeeeee'\n",
    "output_str = compress_string(input_str)\n",
    "print(output_str)  # Output: 'a5b3c2d3e5'\n"
   ]
  },
  {
   "cell_type": "code",
   "execution_count": 2,
   "id": "a986ae94",
   "metadata": {},
   "outputs": [
    {
     "name": "stdout",
     "output_type": "stream",
     "text": [
      "a5b3c2d3e5\n"
     ]
    }
   ],
   "source": [
    "def compress_string(s):\n",
    "    res = \"\"\n",
    "    current_char = s[0]\n",
    "    count = 1\n",
    "\n",
    "    for i in range(1, len(s)):\n",
    "        if s[i] == current_char:\n",
    "            count += 1\n",
    "        else:\n",
    "            res = res + current_char + str(count)\n",
    "            current_char = s[i]\n",
    "            count = 1\n",
    "\n",
    "    res = res + current_char + str(count)\n",
    "    return res\n",
    "\n",
    "input_str = 'aaaaabbbccdddeeeee'\n",
    "output_str = compress_string(input_str)\n",
    "print(output_str)\n"
   ]
  },
  {
   "cell_type": "code",
   "execution_count": 3,
   "id": "023453ff",
   "metadata": {},
   "outputs": [
    {
     "name": "stdout",
     "output_type": "stream",
     "text": [
      "a5b3c2d3e5\n"
     ]
    }
   ],
   "source": [
    "from itertools import groupby\n",
    "\n",
    "input_str = 'aaaaabbbccdddeeeee'\n",
    "output_str = ''.join(c + str(len(list(g))) for c, g in groupby(input_str))\n",
    "print(output_str)\n"
   ]
  },
  {
   "cell_type": "markdown",
   "id": "49a61b89",
   "metadata": {},
   "source": [
    " Program for list comprehension"
   ]
  },
  {
   "cell_type": "code",
   "execution_count": 10,
   "id": "68cad5a5",
   "metadata": {},
   "outputs": [
    {
     "name": "stdout",
     "output_type": "stream",
     "text": [
      "[0, 2, 4, 6, 8, 10, 12, 14, 16, 18, 20, 22, 24, 26, 28, 30, 32, 34, 36, 38, 40, 42, 44, 46, 48, 50, 52, 54, 56, 58, 60, 62, 64, 66, 68, 70, 72, 74, 76, 78, 80, 82, 84, 86, 88, 90, 92, 94, 96, 98]\n"
     ]
    }
   ],
   "source": [
    "l = [i for i in range(100) if i%2==0]\n",
    "print(l)"
   ]
  },
  {
   "cell_type": "code",
   "execution_count": null,
   "id": "e97b6b0d",
   "metadata": {},
   "outputs": [],
   "source": []
  }
 ],
 "metadata": {
  "kernelspec": {
   "display_name": "Python 3 (ipykernel)",
   "language": "python",
   "name": "python3"
  },
  "language_info": {
   "codemirror_mode": {
    "name": "ipython",
    "version": 3
   },
   "file_extension": ".py",
   "mimetype": "text/x-python",
   "name": "python",
   "nbconvert_exporter": "python",
   "pygments_lexer": "ipython3",
   "version": "3.10.7"
  }
 },
 "nbformat": 4,
 "nbformat_minor": 5
}
